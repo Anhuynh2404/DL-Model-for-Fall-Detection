{
  "nbformat": 4,
  "nbformat_minor": 0,
  "metadata": {
    "colab": {
      "provenance": []
    },
    "kernelspec": {
      "name": "python3",
      "display_name": "Python 3"
    },
    "language_info": {
      "name": "python"
    }
  },
  "cells": [
    {
      "cell_type": "code",
      "execution_count": 38,
      "metadata": {
        "colab": {
          "base_uri": "https://localhost:8080/"
        },
        "id": "f8hUr3Rq4w0I",
        "outputId": "f99385a6-f0e8-476c-ee4c-28a84acc559d"
      },
      "outputs": [
        {
          "output_type": "stream",
          "name": "stdout",
          "text": [
            "Drive already mounted at /content/gdrive; to attempt to forcibly remount, call drive.mount(\"/content/gdrive\", force_remount=True).\n"
          ]
        }
      ],
      "source": [
        "from google.colab import drive\n",
        "drive.mount(\"/content/gdrive\")"
      ]
    },
    {
      "cell_type": "code",
      "source": [
        "!gdown -q 1-E-TLd5_J-DDWZXkuYL-moMpoezlMn4Z"
      ],
      "metadata": {
        "id": "NR3AgsTfdgFL"
      },
      "execution_count": 25,
      "outputs": []
    },
    {
      "cell_type": "code",
      "source": [
        "!gdown -q 1gvOuxPc8dNgTnxuvPcVuCKifOf98-TV0"
      ],
      "metadata": {
        "id": "6XnfF9addoMM"
      },
      "execution_count": 26,
      "outputs": []
    },
    {
      "cell_type": "code",
      "source": [
        "!pip install -q tqdm"
      ],
      "metadata": {
        "id": "TguKa5Ez9JKl"
      },
      "execution_count": 27,
      "outputs": []
    },
    {
      "cell_type": "code",
      "source": [
        "from sklearn.metrics import classification_report, confusion_matrix, precision_recall_curve, roc_auc_score, roc_curve\n",
        "from sklearn.model_selection import train_test_split, GridSearchCV\n",
        "from sklearn.ensemble import RandomForestClassifier\n",
        "from sklearn.linear_model import LogisticRegression\n",
        "from sklearn.neighbors import KNeighborsClassifier\n",
        "from sklearn.preprocessing import StandardScaler\n",
        "from sklearn.tree import DecisionTreeClassifier\n",
        "from sklearn.utils import compute_class_weight\n",
        "from itertools import groupby, chain\n",
        "import matplotlib.pyplot as plt\n",
        "from tensorflow import keras\n",
        "import tensorflow as tf\n",
        "from tqdm import tqdm\n",
        "from math import sqrt\n",
        "import seaborn as sn\n",
        "import pandas as pd\n",
        "import numpy as np\n",
        "import random\n",
        "import pickle\n",
        "import glob\n",
        "import os\n",
        "sn.set()\n"
      ],
      "metadata": {
        "id": "JmYKNeem9Rgd"
      },
      "execution_count": 28,
      "outputs": []
    },
    {
      "cell_type": "code",
      "source": [
        "window_size = 200"
      ],
      "metadata": {
        "id": "Al0mbGoq9gA1"
      },
      "execution_count": 29,
      "outputs": []
    },
    {
      "cell_type": "code",
      "source": [
        "colors = plt.rcParams['axes.prop_cycle'].by_key()['color']\n",
        "\n",
        "#Sử dụng Matplotlib và Seaborn để trực quan hóa ma trận nhầm lẫn (Confusion Matrix) dưới dạng bản đồ nhiệt (heatmap).\n",
        "def plot_confusion_matrix(confusion_matrix, title='', cmap ='Greens'):\n",
        "    df = pd.DataFrame(confusion_matrix, ['not fall', 'fall'], ['not fall', 'fall'])\n",
        "    plt.figure(figsize=(7,4))\n",
        "    if title == '' :\n",
        "        plt.title('Confusion Matrix')\n",
        "    else:\n",
        "        plt.title('Confusion Matrix for' + ' ' + title)\n",
        "    sn.set(font_scale=1) # for label size\n",
        "    sn.heatmap(df, annot=True, annot_kws={\"size\": 12},fmt='.0f',cmap=cmap) # font size\n",
        "    plt.ylabel('Actual label')\n",
        "    plt.xlabel('Predicted label')\n",
        "    plt.show()\n",
        "\n",
        "#Vẽ đồ thị Precision-Recall Curve, một công cụ hữu ích để đánh giá hiệu suất mô hình\n",
        "def plot_precision_recall_curve(actual_labels, prediction, title='', model_name='', file_name=None):\n",
        "    precision, recall, thresholds=precision_recall_curve(actual_labels, prediction)\n",
        "    plt.figure(figsize=(8,6))\n",
        "    fig, ax = plt.subplots()\n",
        "    ax.plot(recall, precision, label='Model: {model_name}'.format(model_name=model_name), color='purple')\n",
        "\n",
        "    # add axis labels to plot\n",
        "    if title == '':\n",
        "        plt.title(title)\n",
        "    else:\n",
        "        plt.title('Precision-Recall Curve')\n",
        "    ax.set_ylabel('Precision')\n",
        "    ax.set_xlabel('Recall')\n",
        "\n",
        "    # display plot\n",
        "    plt.show()\n",
        "    if file_name is not None:\n",
        "        plt.savefig(file_name)\n",
        "\n",
        "#Vẽ đường cong ROC (Receiver Operating Characteristic Curve) – một công cụ đánh giá hiệu suất mô hình trong các bài toán phân loại nhị phân\n",
        "def plot_roc_curve(actual_labels, prediction, title='', model_name='', file_name=None):\n",
        "    fpr, tpr, _ = roc_curve(actual_labels, prediction)\n",
        "    plt.figure(figsize=(8,6))\n",
        "    plt.plot(fpr, tpr, label='Model: {model_name}'.format(model_name=model_name), color='blue')\n",
        "    if title == '':\n",
        "        plt.title(title)\n",
        "    else:\n",
        "        plt.title('ROC Learning Curves')\n",
        "    plt.xlabel('false positive rate')\n",
        "    plt.ylabel('true positive rate')\n",
        "    plt.show()\n",
        "\n",
        "    if file_name is not None:\n",
        "        plt.savefig(file_name)\n",
        "\n",
        "#Hàm này dùng để vẽ các biểu đồ đánh giá hiệu suất của mô hình trong quá trình huấn luyện, gồm:\n",
        "#Loss – PRC (Precision-Recall Curve) – Precision – Recall\n",
        "def plot_metrics(history):\n",
        "    metrics = ['loss', 'PRC', 'Precision', 'Recall']\n",
        "    plt.figure(figsize=(10,10),linewidth = 7, edgecolor=\"whitesmoke\")\n",
        "\n",
        "    for n, metric in enumerate(metrics):\n",
        "        name = metric.replace(\"_\",\" \").capitalize()\n",
        "        plt.subplot(2,2,n+1)\n",
        "        plt.plot(history.epoch, history.history[metric], color=colors[0], label='Train')\n",
        "        plt.plot(history.epoch, history.history['val_'+metric],\n",
        "             color=colors[0], linestyle=\"--\", label='Val')\n",
        "        plt.xlabel('Epoch')\n",
        "        plt.ylabel(name)\n",
        "    if metric == 'loss':\n",
        "        plt.ylim([0, plt.ylim()[1]])\n",
        "    elif metric == 'auc':\n",
        "        plt.ylim([0.8,1])\n",
        "    else:\n",
        "        plt.ylim([0,1])\n",
        "\n",
        "    plt.legend()\n",
        "\n",
        "#Hàm này dùng để vẽ đường cong AUC-ROC giúp đánh giá khả năng phân loại của mô hình.\n",
        "def plot_auc_curve(actual_labels, prediction, title='', model_name='', file_name = None):\n",
        "    fpr, tpr, _ = roc_curve(actual_labels,  prediction)\n",
        "    auc = roc_auc_score(actual_labels, prediction).round(4)\n",
        "    plt.figure(figsize=(8,6))\n",
        "    if title == '':\n",
        "        plt.title(title)\n",
        "    else:\n",
        "        plt.title('AUC Learning Curves')\n",
        "    plt.plot(fpr,tpr, label='Model: '+ model_name + \", AUC=\" + str(auc), color='red')\n",
        "    plt.legend(loc=4)\n",
        "    plt.show()\n",
        "    if file_name is not None:\n",
        "        plt.savefig(file_name)\n",
        "\n",
        "#Vẽ biểu đồ quá trình huấn luyện gồm Accuracy & Loss.\n",
        "def plot_history(history):\n",
        "\n",
        "    plt.figure(figsize=(10,5),linewidth = 7, edgecolor=\"whitesmoke\")\n",
        "    n = len(history.history['Accuracy'])\n",
        "\n",
        "    plt.plot(np.arange(0,n)+1,history.history['Accuracy'], color='orange',marker=\".\")\n",
        "    plt.plot(np.arange(0,n)+1,history.history['loss'],'b',marker=\".\")\n",
        "\n",
        "    # offset both validation curves\n",
        "    plt.plot(np.arange(0,n)+ 1,history.history['val_Accuracy'],'r')\n",
        "    plt.plot(np.arange(0,n)+ 1,history.history['val_loss'],'g')\n",
        "\n",
        "    plt.legend(['Train Acc','Train Loss','Val Acc','Val Loss'])\n",
        "    plt.grid(True)\n",
        "\n",
        "    # set vertical limit to 1\n",
        "    plt.gca().set_ylim(0,1)\n",
        "\n",
        "    plt.xlabel(\"Number of Epochs\")\n",
        "    plt.ylabel(\"Value\")\n",
        "    plt.suptitle(\"Learning Curve\", size=16, y=0.927)\n",
        "    plt.show()\n",
        "#Lưu biến Python vào file .pkl để dùng lại sau.\n",
        "\n",
        "def save_pickle(variable, path):\n",
        "  with open(path,'wb') as f:\n",
        "    pickle.dump(variable, f)\n",
        "    return\n",
        "#Đọc biến từ file .pkl\n",
        "def load_pickle(path):\n",
        "  with open(path,'rb') as f:\n",
        "    return pickle.load(f)"
      ],
      "metadata": {
        "id": "wCr-9Kqn9i0e"
      },
      "execution_count": 30,
      "outputs": []
    },
    {
      "cell_type": "markdown",
      "source": [
        "## Pre-Processor"
      ],
      "metadata": {
        "id": "kIX0t49dA_Ic"
      }
    },
    {
      "cell_type": "code",
      "source": [
        "class DatasetProcessor():\n",
        "\n",
        "  def get_file_name(self, path, ratio=0.8):\n",
        "    allfiles = []\n",
        "    allFolders = sorted(glob.glob(path + \"*\"))\n",
        "    for files in allFolders:\n",
        "      allfiles.append(sorted(glob.glob(files+\"/*.txt\")))\n",
        "    if 'desktop.ini' in allfiles:\n",
        "          allfiles.remove('desktop.ini')\n",
        "\n",
        "    dataset = np.hstack(allfiles)\n",
        "    start = dataset[0].rfind('/') + 1\n",
        "    end = dataset[0][start:].find('_') + start\n",
        "    dataset = [list(g) for k, g in groupby(dataset, key=lambda x: x[start:end])]\n",
        "    train = []\n",
        "    test = []\n",
        "    for data in dataset:\n",
        "      if len(data) == 1:\n",
        "        if random.randint(1,100)>=81:\n",
        "          test.extend(data)\n",
        "        else:\n",
        "          train.extend(data)\n",
        "\n",
        "      else:\n",
        "        random.shuffle(data)\n",
        "        train.extend(data[:int(len(data)*ratio)])\n",
        "        test.extend(data[int(len(data)*ratio):])\n",
        "\n",
        "    return train, test\n",
        "\n",
        "  def __read_data(self, data_path):\n",
        "    data = pd.read_csv(data_path, header=None)\n",
        "    data.columns = ['ADXL345_x', 'ADXL345_y', 'ADXL345_z', 'ITG3200_x', 'ITG3200_y', 'ITG3200_z', 'MMA8451Q_x',\n",
        "                    'MMA8451Q_y', 'MMA8451Q_z']\n",
        "    data['MMA8451Q_z'] = data['MMA8451Q_z'].map(lambda x: str(x)[:-1])\n",
        "    for name in data.columns :\n",
        "      data[name] = data[name].astype(float)\n",
        "    return data\n",
        "\n",
        "  def __add_label(self, data_path, merge_feature=False):\n",
        "\n",
        "    dataset = self.__read_data(data_path)\n",
        "\n",
        "    if dataset is None or dataset.empty:  # Kiểm tra nếu dataset rỗng\n",
        "        print(f\"⚠️ Lỗi: Không thể đọc dữ liệu từ {data_path}\")\n",
        "        return None\n",
        "\n",
        "    if not merge_feature:\n",
        "      dataset['label'] = self.__get_label(data_path)\n",
        "      return dataset.to_numpy()\n",
        "\n",
        "    else:\n",
        "      new_dataset = pd.DataFrame()\n",
        "      new_dataset['acc_1'] = dataset.apply(\n",
        "          lambda row: sqrt((row.ADXL345_x ** 2 + row.ADXL345_y ** 2 + row.ADXL345_z ** 2)), axis=1)\n",
        "      new_dataset['acc_2'] = dataset.apply(\n",
        "          lambda row: sqrt((row.MMA8451Q_x ** 2 + row.MMA8451Q_y ** 2 + row.MMA8451Q_z ** 2)), axis=1)\n",
        "      new_dataset['geo'] = dataset.apply(\n",
        "          lambda row: sqrt((row.ITG3200_x ** 2 + row.ITG3200_y ** 2 + row.ITG3200_z ** 2)), axis=1)\n",
        "      new_dataset['label'] = self.__get_label(data_path)\n",
        "\n",
        "      return np.round(new_dataset.to_numpy(), 2)\n",
        "\n",
        "  def __get_label(self, data_path):\n",
        "    label = data_path[54]\n",
        "    if label =='D':\n",
        "      return int(0)\n",
        "    elif label =='F':\n",
        "      label_path = data_path.replace('dataset', 'enhanced')\n",
        "      labels = pd.read_csv(label_path, header=None)\n",
        "      return labels\n",
        "\n",
        "  def datasets_to_nparray(self, datasets_address_array, outputsize=20000000, column_dimension=10):\n",
        "    result = np.zeros((outputsize, column_dimension), 'int16')\n",
        "    first_index = 0\n",
        "    for address in tqdm(datasets_address_array, ncols=50):\n",
        "      feature = self.__add_label(address)\n",
        "\n",
        "      result[first_index : (first_index+len(feature))] = feature\n",
        "      first_index += len(feature)\n",
        "\n",
        "    return result[result.sum(axis=1) != 0]\n",
        "\n",
        "  def windowing2d(self, dataset, window_size=200):\n",
        "    window = window_size * (dataset.shape[1]-1)\n",
        "    cut = dataset.shape[0] % window_size\n",
        "    feature = dataset[:-cut,0:-1]\n",
        "    label = dataset[:-cut,-1]\n",
        "    feature = feature.ravel().reshape(feature.size//window,window)\n",
        "    label = label.reshape(label.size// window_size, window_size)\n",
        "    label = label.sum(axis=1)\n",
        "    label[label > 0] = 1\n",
        "    feature = np.roll((np.roll(feature, -1, axis=0) - feature), 1, axis=0)\n",
        "    feature[0] = 0\n",
        "    return feature, label.ravel()\n",
        "\n",
        "  def windowing3d(self, dataset, window_size=200):\n",
        "    n_windows = len(dataset) // window_size\n",
        "    cut = dataset.shape[0] % window_size\n",
        "    feature = dataset[:-cut,0:-1]\n",
        "    label = dataset[:-cut,-1]\n",
        "    feature = feature.reshape(n_windows, window_size, dataset.shape[1]-1)\n",
        "    label = label.reshape(n_windows, window_size, 1)\n",
        "    label = label.sum(axis=1)\n",
        "    label[label > 0] = 1\n",
        "    feature = np.roll((np.roll(feature, -1, axis=0) - feature), 1, axis=0)\n",
        "    feature[0] = 0\n",
        "    return feature, label.ravel()\n",
        "\n",
        "  def normalizer(self, scaler, X_train, X_test):\n",
        "    X_train = scaler.fit_transform(X_train.reshape(-1, X_train.shape[-1])).reshape(X_train.shape)\n",
        "    X_test = scaler.transform(X_test.reshape(-1, X_test.shape[-1])).reshape(X_test.shape)\n",
        "    return X_train, X_test\n",
        "\n",
        "  def dataset_to_tensor(self, window_size, dataset, saving_path):\n",
        "    features, labels = self.windowing(self.__datasets_to_nparray(dataset), window_size)\n",
        "    return features, labels\n",
        "\n",
        "  def downsampling(self, dataset, down_sampleing_factor):\n",
        "      positive = dataset[dataset['targets']==1]\n",
        "      negative = dataset[dataset['targets']==0].sample(n=int(len(positive)* down_sampleing_factor))\n",
        "      return pd.concat([positive, negative], ignore_index=True).sample(frac=1).reset_index(drop=True)\n",
        "\n",
        "  def generate_class_weight(self, label):\n",
        "    class_weights = compute_class_weight(class_weight = \"balanced\",\n",
        "                                         classes = np.unique(label),\n",
        "                                         y = label)\n",
        "    return dict(zip(np.unique(label), class_weights))\n"
      ],
      "metadata": {
        "id": "PteJOCLbBCxI"
      },
      "execution_count": 33,
      "outputs": []
    },
    {
      "cell_type": "markdown",
      "source": [
        "##Xử lý dữ liệu từ SisFall dataset"
      ],
      "metadata": {
        "id": "XEWTHsU2D-zw"
      }
    },
    {
      "cell_type": "code",
      "source": [
        "dp = DatasetProcessor()\n",
        "print(dir(dp))  # Liệt kê tất cả phương thức của đối tượng\n"
      ],
      "metadata": {
        "colab": {
          "base_uri": "https://localhost:8080/"
        },
        "id": "L0jnHyO1Yw7Z",
        "outputId": "3d2ce814-669a-4848-a9c6-f9fb876631bf"
      },
      "execution_count": 11,
      "outputs": [
        {
          "output_type": "stream",
          "name": "stdout",
          "text": [
            "['_DatasetProcessor__add_label', '_DatasetProcessor__get_label', '_DatasetProcessor__read_data', '__class__', '__delattr__', '__dict__', '__dir__', '__doc__', '__eq__', '__format__', '__ge__', '__getattribute__', '__getstate__', '__gt__', '__hash__', '__init__', '__init_subclass__', '__le__', '__lt__', '__module__', '__ne__', '__new__', '__reduce__', '__reduce_ex__', '__repr__', '__setattr__', '__sizeof__', '__str__', '__subclasshook__', '__weakref__', 'dataset_to_tensor', 'datasets_to_nparray', 'downsampling', 'generate_class_weight', 'get_file_name', 'normalizer', 'windowing2d', 'windowing3d']\n"
          ]
        }
      ]
    },
    {
      "cell_type": "code",
      "source": [
        "%%time\n",
        "\n",
        "dp = DatasetProcessor()\n",
        "print('1.Split Adresses...')\n",
        "train, test = dp.get_file_name('/content/gdrive/MyDrive/Datasets/SisFall_dataset/')\n",
        "\n",
        "print('2.Extract Features and Labels...')\n",
        "print('------------------------Train Dataset')\n",
        "train_dataset = dp.datasets_to_nparray(train)\n",
        "print('------------------------Test Dataset')\n",
        "test_dataset = dp.datasets_to_nparray(test)\n",
        "\n",
        "print('3.Windowing...')\n",
        "print('------------------------Train Dataset')\n",
        "X_train, y_train = dp.windowing3d(train_dataset)\n",
        "print('------------------------Test Dataset')\n",
        "X_test, y_test = dp.windowing3d(test_dataset)\n",
        "\n",
        "print('4.Normalizing...')\n",
        "scaler = StandardScaler()\n",
        "X_train, X_test = dp.normalizer(scaler, X_train, X_test)\n",
        "\n",
        "print('5.Calculate Class Weight...')\n",
        "class_weight = dp.generate_class_weight(y_train)\n"
      ],
      "metadata": {
        "colab": {
          "base_uri": "https://localhost:8080/"
        },
        "id": "fEVTgcpxDxes",
        "outputId": "fc9cc76e-9814-4414-fc20-346ef582dd87"
      },
      "execution_count": 34,
      "outputs": [
        {
          "output_type": "stream",
          "name": "stdout",
          "text": [
            "1.Split Adresses...\n",
            "2.Extract Features and Labels...\n",
            "------------------------Train Dataset\n"
          ]
        },
        {
          "output_type": "stream",
          "name": "stderr",
          "text": [
            "100%|█████████| 3598/3598 [37:51<00:00,  1.58it/s]\n"
          ]
        },
        {
          "output_type": "stream",
          "name": "stdout",
          "text": [
            "------------------------Test Dataset\n"
          ]
        },
        {
          "output_type": "stream",
          "name": "stderr",
          "text": [
            "100%|███████████| 907/907 [09:58<00:00,  1.52it/s]\n"
          ]
        },
        {
          "output_type": "stream",
          "name": "stdout",
          "text": [
            "3.Windowing...\n",
            "------------------------Train Dataset\n",
            "------------------------Test Dataset\n",
            "4.Normalizing...\n",
            "5.Calculate Class Weight...\n",
            "CPU times: user 1min 23s, sys: 9.34 s, total: 1min 32s\n",
            "Wall time: 47min 57s\n"
          ]
        }
      ]
    },
    {
      "cell_type": "code",
      "source": [
        "save = False\n",
        "if save:\n",
        "  save_pickle('/content/gdrive/MyDrive/Fall Detection System/Dataset/X_train')\n",
        "  save_pickle('/content/gdrive/MyDrive/Fall Detection System/Dataset/y_train.pkl')\n",
        "  save_pickle('/content/gdrive/MyDrive/Fall Detection System/Dataset/X_test.pkl')\n",
        "  save_pickle('/content/gdrive/MyDrive/Fall Detection System/Dataset/y_test.pkl')\n",
        "\n",
        "else:\n",
        "  X_train = load_pickle('/content/gdrive/MyDrive/Fall Detection System/Dataset/X_train.pkl')\n",
        "  y_train = load_pickle('/content/gdrive/MyDrive/Fall Detection System/Dataset/y_train.pkl')\n",
        "  X_test = load_pickle('/content/gdrive/MyDrive/Fall Detection System/Dataset/X_test.pkl')\n",
        "  y_test = load_pickle('/content/gdrive/MyDrive/Fall Detection System/Dataset/y_test.pkl')\n",
        "  dp = DatasetProcessor()\n",
        "  class_weight = dp.generate_class_weight(y_train)"
      ],
      "metadata": {
        "id": "lgpTWrWi1Hkq"
      },
      "execution_count": 44,
      "outputs": []
    },
    {
      "cell_type": "code",
      "source": [
        "print(f'X_train shape: {X_train.shape}')\n",
        "print(f'y_train shape: {y_train.shape}')\n",
        "print(f'X_test shape: {X_test.shape}')\n",
        "print(f'y_test shape: {y_test.shape}')"
      ],
      "metadata": {
        "colab": {
          "base_uri": "https://localhost:8080/"
        },
        "id": "kAGjCFRv4WEa",
        "outputId": "a71119a2-99dd-4fd6-c437-d824c7ba228b"
      },
      "execution_count": 45,
      "outputs": [
        {
          "output_type": "stream",
          "name": "stdout",
          "text": [
            "X_train shape: (62814, 200, 9)\n",
            "y_train shape: (62814,)\n",
            "X_test shape: (16472, 200, 9)\n",
            "y_test shape: (16472,)\n"
          ]
        }
      ]
    },
    {
      "cell_type": "code",
      "source": [
        "class Traditional_Models():\n",
        "\n",
        "  def __init__(self,\n",
        "               models,\n",
        "               model_parameters,\n",
        "               predictions={},\n",
        "               results={}):\n",
        "    self.models = models\n",
        "    self.model_parameters = model_parameters\n",
        "    self.predictions = predictions\n",
        "    self.results = results\n",
        "\n",
        "  def __validation(self, X_train, y_train, validation_size=0.35):\n",
        "    _, X_validation, _, y_validation = train_test_split(X_train, y_train, test_size=validation_size, stratify=y_train)\n",
        "    return X_validation, y_validation\n",
        "\n",
        "  def __flatten(self, feature_3d):\n",
        "    return feature_3d.reshape(feature_3d.shape[0], feature_3d.shape[1]*feature_3d.shape[-1])\n",
        "\n",
        "  def __feature_selector(self, X_train, y_train, X_test, class_weight, d=64):\n",
        "    feature_selector = DecisionTreeClassifier(class_weight=class_weight).fit(X_train, y_train)\n",
        "    important_features = np.argpartition(feature_selector.feature_importances_, -d)[-d:]\n",
        "    return X_train[:,important_features], X_test[:,important_features]\n",
        "\n",
        "  def __parameter_tuning(self, model, parameters, X_validation, y_validation, scoring='f1_macro'):\n",
        "    optimizer = GridSearchCV(estimator=model, param_grid=parameters, scoring=scoring)\n",
        "    optimizer.fit(X_validation, y_validation)\n",
        "    return model.set_params(**optimizer.best_params_)\n",
        "\n",
        "  def __train_model(self, model, X_train, y_train):\n",
        "    return model.fit(X_train, y_train)\n",
        "\n",
        "  def __evaluate(self, model, X_test, y_test, title=''):\n",
        "    prediction = model.predict(X_test)\n",
        "    self.results[title] = classification_report(y_test, prediction, output_dict=True)\n",
        "    print()\n",
        "    plot_confusion_matrix(confusion_matrix(y_test, prediction), title=title)\n",
        "    print()\n",
        "    return prediction\n",
        "\n",
        "  def pipeline(self,\n",
        "               X_train,\n",
        "               y_train,\n",
        "               X_test,\n",
        "               y_test,\n",
        "               class_weight,\n",
        "               validation_size=35,\n",
        "               number_features=64,\n",
        "               tuning_metric='f1_macro'):\n",
        "    print('1) Reducing dimension of feature matrices...')\n",
        "    X_train_flattened, X_test_flattened = self.__flatten(X_train), self.__flatten(X_test)\n",
        "    print('2) Feature selection...')\n",
        "    X_train_flattened, X_test_flattened = self.__feature_selector(X_train_flattened, y_train, X_test_flattened, class_weight=class_weight, d=number_features)\n",
        "    print('3) Generating validation matrices for hyper-parameter tuning...')\n",
        "    X_validation, y_validation = self.__validation(X_train_flattened, y_train, validation_size=validation_size)\n",
        "    print('4) Train & Evaluation...')\n",
        "    for model_name, model in self.models.items():\n",
        "      print()\n",
        "      print(f'----------------- Working on {model_name} -----------------')\n",
        "      print()\n",
        "      if model_name in self.model_parameters:\n",
        "        model = self.__parameter_tuning(model, self.model_parameters[model_name], X_validation, y_validation, scoring=tuning_metric)\n",
        "      mdoel =  self.__train_model(model, X_train_flattened, y_train)\n",
        "      self.predictions[model_name] = self.__evaluate(model, X_test_flattened, y_test, title=model_name)\n",
        "    return self.predictions, self.results"
      ],
      "metadata": {
        "id": "8NeRQogW4yGU"
      },
      "execution_count": 49,
      "outputs": []
    },
    {
      "cell_type": "code",
      "source": [
        "model_parameters = {'KNN':{'n_neighbors':[2,4,8,16], 'metric':['euclidean','cosine']},\n",
        "                    'Random Forest':{'criterion':['gini', 'entropy', 'log_loss']},\n",
        "                    'Decision Tree':{'criterion':['gini', 'entropy', 'log_loss']},\n",
        "                    }\n",
        "\n",
        "\n",
        "tradional_models = Traditional_Models(models = {'Logistic Regression':LogisticRegression(class_weight=class_weight),\n",
        "                                                'Random Forest':RandomForestClassifier(class_weight=class_weight),\n",
        "                                                'KNN':KNeighborsClassifier(),\n",
        "                                                'Decision Tree': DecisionTreeClassifier(class_weight=class_weight)},\n",
        "                                      model_parameters = model_parameters)"
      ],
      "metadata": {
        "id": "pGq2pp0v41V-"
      },
      "execution_count": 50,
      "outputs": []
    },
    {
      "cell_type": "code",
      "source": [
        "predictions, results = tradional_models.pipeline(X_train,\n",
        "                                                 y_train,\n",
        "                                                 X_test,\n",
        "                                                 y_test,\n",
        "                                                 class_weight)"
      ],
      "metadata": {
        "colab": {
          "base_uri": "https://localhost:8080/",
          "height": 1000
        },
        "id": "CvPXEFLk43gY",
        "outputId": "4c22dd8f-4f3c-430e-ba79-2d0db483fdd4"
      },
      "execution_count": 51,
      "outputs": [
        {
          "output_type": "stream",
          "name": "stdout",
          "text": [
            "1) Reducing dimension of feature matrices...\n",
            "2) Feature selection...\n",
            "3) Generating validation matrices for hyper-parameter tuning...\n",
            "4) Train & Evaluation...\n",
            "\n",
            "----------------- Working on Logistic Regression -----------------\n",
            "\n",
            "\n"
          ]
        },
        {
          "output_type": "display_data",
          "data": {
            "text/plain": [
              "<Figure size 700x400 with 2 Axes>"
            ],
            "image/png": "[encoded data removed]"
          },
          "metadata": {}
        },
        {
          "output_type": "stream",
          "name": "stdout",
          "text": [
            "\n",
            "\n",
            "----------------- Working on Random Forest -----------------\n",
            "\n"
          ]
        },
        {
          "output_type": "stream",
          "name": "stderr",
          "text": [
            "/usr/local/lib/python3.11/dist-packages/sklearn/model_selection/_split.py:805: UserWarning: The least populated class in y has only 2 members, which is less than n_splits=5.\n",
            "  warnings.warn(\n"
          ]
        },
        {
          "output_type": "stream",
          "name": "stdout",
          "text": [
            "\n"
          ]
        },
        {
          "output_type": "display_data",
          "data": {
            "text/plain": [
              "<Figure size 700x400 with 2 Axes>"
            ],
            "image/png": "[encoded data removed]"
          },
          "metadata": {}
        },
        {
          "output_type": "stream",
          "name": "stdout",
          "text": [
            "\n",
            "\n",
            "----------------- Working on KNN -----------------\n",
            "\n"
          ]
        },
        {
          "output_type": "stream",
          "name": "stderr",
          "text": [
            "/usr/local/lib/python3.11/dist-packages/sklearn/model_selection/_split.py:805: UserWarning: The least populated class in y has only 2 members, which is less than n_splits=5.\n",
            "  warnings.warn(\n"
          ]
        },
        {
          "output_type": "stream",
          "name": "stdout",
          "text": [
            "\n"
          ]
        },
        {
          "output_type": "display_data",
          "data": {
            "text/plain": [
              "<Figure size 700x400 with 2 Axes>"
            ],
            "image/png": "[encoded data removed]"
          },
          "metadata": {}
        },
        {
          "output_type": "stream",
          "name": "stdout",
          "text": [
            "\n",
            "\n",
            "----------------- Working on Decision Tree -----------------\n",
            "\n"
          ]
        },
        {
          "output_type": "stream",
          "name": "stderr",
          "text": [
            "/usr/local/lib/python3.11/dist-packages/sklearn/model_selection/_split.py:805: UserWarning: The least populated class in y has only 2 members, which is less than n_splits=5.\n",
            "  warnings.warn(\n"
          ]
        },
        {
          "output_type": "stream",
          "name": "stdout",
          "text": [
            "\n"
          ]
        },
        {
          "output_type": "display_data",
          "data": {
            "text/plain": [
              "<Figure size 700x400 with 2 Axes>"
            ],
            "image/png": "[encoded data removed]"
          },
          "metadata": {}
        },
        {
          "output_type": "stream",
          "name": "stdout",
          "text": [
            "\n"
          ]
        }
      ]
    },
    {
      "cell_type": "code",
      "source": [
        "save_pickle(predictions, '/content/gdrive/MyDrive/Fall Detection System/Results/predictions.pkl')\n",
        "save_pickle(results, '/content/gdrive/MyDrive/Fall Detection System/Results/results.pkl')"
      ],
      "metadata": {
        "id": "APDWTkiR7tMJ"
      },
      "execution_count": 53,
      "outputs": []
    },
    {
      "cell_type": "code",
      "source": [
        "classification_metrics = [keras.metrics.TruePositives(name='TP'),\n",
        "                          keras.metrics.FalsePositives(name='FP'),\n",
        "                          keras.metrics.TrueNegatives(name='TN'),\n",
        "                          keras.metrics.FalseNegatives(name='FN'),\n",
        "                          keras.metrics.BinaryAccuracy(name='Accuracy'),\n",
        "                          keras.metrics.Precision(name='Precision'),\n",
        "                          keras.metrics.Recall(name='Recall'),\n",
        "                          keras.metrics.AUC(name='AUC'),\n",
        "                          keras.metrics.AUC(name='PRC', curve='PR')]\n",
        "\n",
        "def get_early_stopping(metric='val_PRC', patience=5, mode='max'):\n",
        "  early_stopping = keras.callbacks.EarlyStopping(monitor=metric,\n",
        "                                                verbose=1,\n",
        "                                                patience=patience,\n",
        "                                                mode=mode,\n",
        "                                                restore_best_weights=True)\n",
        "  return early_stopping"
      ],
      "metadata": {
        "id": "Um1p7W954c-X"
      },
      "execution_count": 54,
      "outputs": []
    },
    {
      "cell_type": "code",
      "source": [
        "class Train_Evaluate_Deep():\n",
        "\n",
        "  def __init__(self,\n",
        "               predictions={},\n",
        "               results={}):\n",
        "\n",
        "      self.predictions = predictions\n",
        "      self.results = results\n",
        "\n",
        "  def build_cnn(self, input_size, units=128, drop_rate=0.25, filter=32, kernel_size=(1*9), output_size=1):\n",
        "    input = keras.layers.Input((input_size))\n",
        "    x = keras.layers.Conv1D(filters=filter//2, kernel_size=kernel_size, padding='same', activation='relu', name=\"conv1\")(input)\n",
        "    x = keras.layers.Conv1D(filters=filter, kernel_size=kernel_size, padding='same', activation='relu', name=\"conv2\")(x)\n",
        "    x = keras.layers.Conv1D(filters=filter*2, kernel_size=kernel_size, padding='same', activation='relu', name=\"conv3\")(x)\n",
        "    x = tf.keras.layers.Flatten()(x)\n",
        "    classifier = keras.layers.Dense(units*4, activation='relu')(x)\n",
        "    classifier = keras.layers.Dropout(drop_rate)(classifier)\n",
        "    classifier = keras.layers.Dense(units, activation='relu')(classifier)\n",
        "    classifier = keras.layers.Dropout(drop_rate)(classifier)\n",
        "    classifier = keras.layers.Dense(units//2, activation='relu')(classifier)\n",
        "    classifier = keras.layers.Dropout(drop_rate)(classifier)\n",
        "    output = keras.layers.Dense(output_size, activation='sigmoid')(classifier)\n",
        "    model = keras.Model(inputs=input, outputs=output)\n",
        "    return model\n",
        "\n",
        "  def build_lstm(self, input_size, units=128, drop_rate=0.25, lstm_units=16, output_size=1):\n",
        "    input = keras.layers.Input((input_size))\n",
        "    x = keras.layers.LSTM(units=lstm_units//2, input_shape=input_size, return_sequences=True, name=\"lstm1\")(input)\n",
        "    x = keras.layers.LSTM(units=lstm_units, input_shape=input_size, return_sequences=True, name=\"lstm2\")(x)\n",
        "    x = keras.layers.LSTM(units=lstm_units*2, input_shape=input_size, return_sequences=True, name=\"lstm3\")(x)\n",
        "    x = tf.keras.layers.Flatten()(x)\n",
        "    classifier = keras.layers.Dense(units*4, activation='relu')(x)\n",
        "    classifier = keras.layers.Dropout(drop_rate)(classifier)\n",
        "    classifier = keras.layers.Dense(units, activation='relu')(classifier)\n",
        "    classifier = keras.layers.Dropout(drop_rate)(classifier)\n",
        "    classifier = keras.layers.Dense(units//2, activation='relu')(classifier)\n",
        "    classifier = keras.layers.Dropout(drop_rate)(classifier)\n",
        "    output = keras.layers.Dense(output_size, activation='sigmoid')(classifier)\n",
        "    model = keras.Model(inputs=input, outputs=output)\n",
        "    return model\n",
        "\n",
        "  def build_mlp(self, input_size, hidden_layer_size=128, output_size=1, drop_rate=0.25):\n",
        "    input = keras.layers.Input((input_size))\n",
        "    x = keras.layers.Dense(hidden_layer_size//4, activation='relu')(input)\n",
        "    x = keras.layers.Dense(hidden_layer_size//2, activation='relu')(x)\n",
        "    x = keras.layers.Dense(hidden_layer_size, activation='relu')(x)\n",
        "    x = tf.keras.layers.Flatten()(x)\n",
        "    classifier = keras.layers.Dense(hidden_layer_size*4, activation='relu')(x)\n",
        "    classifier = keras.layers.Dropout(drop_rate)(classifier)\n",
        "    classifier = keras.layers.Dense(hidden_layer_size, activation='relu')(classifier)\n",
        "    classifier = keras.layers.Dropout(drop_rate)(classifier)\n",
        "    classifier = keras.layers.Dense(hidden_layer_size//2, activation='relu')(classifier)\n",
        "    classifier = keras.layers.Dropout(drop_rate)(classifier)\n",
        "    output = keras.layers.Dense(output_size, activation='sigmoid')(classifier)\n",
        "    model = keras.Model(inputs=input, outputs=output)\n",
        "    return model\n",
        "\n",
        "  def build_AE(self, input_size, latent_dim=128, filter=64, kernel_size=(1*9)):\n",
        "    input = keras.layers.Input((input_size))\n",
        "    encoder = keras.layers.Conv1D(filters=filter//2, kernel_size=kernel_size, padding='same', activation='relu', name=\"conv1\")(input)\n",
        "    encoder = keras.layers.Conv1D(filters=filter, kernel_size=kernel_size, padding='same', activation='relu', name=\"conv2\")(encoder)\n",
        "    encoder = tf.keras.layers.Flatten()(encoder)\n",
        "    encoder = keras.layers.Dense(latent_dim*4, activation='relu')(encoder)\n",
        "    encoder = keras.layers.Dense(latent_dim*2, activation='relu')(encoder)\n",
        "\n",
        "    latent = keras.layers.Dense(latent_dim, activation='relu')(encoder)\n",
        "\n",
        "    decoder = keras.layers.Dense(latent_dim*2, activation='relu')(latent)\n",
        "    decoder = keras.layers.Dense(latent_dim*4, activation='relu')(decoder)\n",
        "    decoder = keras.layers.Dense(filter*input_size[0], activation='relu')(decoder)\n",
        "    decoder = keras.layers.Reshape((input_size[0], filter))(decoder)\n",
        "    decoder = keras.layers.Conv1DTranspose(filters=filter, kernel_size=kernel_size, padding='same', activation='relu')(decoder)\n",
        "    decoder = keras.layers.Conv1DTranspose(filters=filter//2, kernel_size=kernel_size, padding='same', activation='relu')(decoder)\n",
        "\n",
        "    output = keras.layers.Conv1DTranspose(filters=input_size[-1], kernel_size=kernel_size, padding='same', activation='relu')(decoder)\n",
        "    model = keras.Model(inputs=input, outputs=output)\n",
        "    return model\n",
        "\n",
        "  def train_deep_model(self,\n",
        "                       model,\n",
        "                       X_train,\n",
        "                       y_train,\n",
        "                       metrics,\n",
        "                       loss_function,\n",
        "                       optimizer,\n",
        "                       callbacks,\n",
        "                       class_weight=None,\n",
        "                       epochs=100,\n",
        "                       batch_size=128,\n",
        "                       validation_split=0.2):\n",
        "\n",
        "    print('----------------------------------')\n",
        "    print(model.summary())\n",
        "    print('----------------------------------')\n",
        "\n",
        "    model.compile(optimizer=optimizer,\n",
        "                  loss=loss_function,\n",
        "                  metrics=metrics)\n",
        "\n",
        "    if not class_weight is None:\n",
        "      history = model.fit(X_train,\n",
        "                          y_train,\n",
        "                          batch_size = batch_size,\n",
        "                          epochs = epochs,\n",
        "                          shuffle = True,\n",
        "                          class_weight = class_weight,\n",
        "                          validation_split = validation_split,\n",
        "                          callbacks = callbacks,\n",
        "                          verbose = 1)\n",
        "    else:\n",
        "      history = model.fit(X_train,\n",
        "                          y_train,\n",
        "                          batch_size = batch_size,\n",
        "                          epochs = epochs,\n",
        "                          shuffle = True,\n",
        "                          validation_split = validation_split,\n",
        "                          callbacks = callbacks,\n",
        "                          verbose = 1)\n",
        "    return history\n",
        "\n",
        "  def evaluate(self, model, X_test, y_test, batch_size=128, threshold=0.5, title='', model_name='', plot=True):\n",
        "    prediction = model.predict(X_test, batch_size=batch_size)\n",
        "    self.predictions[model_name] = prediction\n",
        "    prediction = np.where(prediction >= threshold, 1, 0)\n",
        "    if plot:\n",
        "      print()\n",
        "      print('1) Plot ROC Curve...')\n",
        "      print()\n",
        "      plot_roc_curve(y_test, prediction, title='ROC Curve of {model_name} Model'.format(model_name=model_name), model_name=model_name, file_name=None)\n",
        "      print()\n",
        "      print('2) Plot AUC Curve...')\n",
        "      print()\n",
        "      plot_auc_curve(y_test, prediction, title='AUC Curve of {model_name} Model'.format(model_name=model_name), model_name=model_name, file_name = None)\n",
        "      print()\n",
        "      print('3) Plot Percision_Recall Curve......')\n",
        "      print()\n",
        "      plot_precision_recall_curve(y_test, prediction, title='Percision_Recall Curve of {model_name} Model'.format(model_name=model_name), model_name=model_name, file_name=None)\n",
        "    report = classification_report(y_test, prediction, output_dict=True)\n",
        "    self.results[model_name] = report\n",
        "    print()\n",
        "    plot_confusion_matrix(confusion_matrix(y_test, prediction), title=title)\n",
        "    print()\n",
        "    return prediction\n",
        "\n",
        "  def plot_learning_curves(self, history):\n",
        "    print('1) Plot learning process based on different metrics...')\n",
        "    print()\n",
        "    plot_metrics(history)\n",
        "    print()\n",
        "    print('2) Plot learning curve...')\n",
        "    print()\n",
        "    return plot_history(history)"
      ],
      "metadata": {
        "id": "-HuiWtU04fs_"
      },
      "execution_count": 55,
      "outputs": []
    },
    {
      "cell_type": "code",
      "source": [
        "predictions = load_pickle('/content/gdrive/MyDrive/Fall Detection System/Results/predictions.pkl')\n",
        "results = load_pickle('/content/gdrive/MyDrive/Fall Detection System/Results/results.pkl')\n",
        "\n",
        "train_evaluate_deep = Train_Evaluate_Deep(predictions=predictions,\n",
        "                                          results=results)"
      ],
      "metadata": {
        "id": "X7y1HiEt4kCz"
      },
      "execution_count": 56,
      "outputs": []
    },
    {
      "cell_type": "code",
      "source": [
        "print('1. Build Model...')\n",
        "cnn_model = train_evaluate_deep.build_cnn(input_size=X_train.shape[1:])\n",
        "print('2. Train Model...')\n",
        "cnn_history = train_evaluate_deep.train_deep_model(cnn_model,\n",
        "                                                   X_train,\n",
        "                                                   y_train,\n",
        "                                                   optimizer=tf.optimizers.SGD(learning_rate=0.001),\n",
        "                                                   loss_function=keras.losses.BinaryCrossentropy(),\n",
        "                                                   callbacks=[get_early_stopping(metric='val_PRC', patience=10, mode='max')],\n",
        "                                                   metrics=classification_metrics,\n",
        "                                                   class_weight=class_weight,\n",
        "                                                   epochs=30)\n",
        "print('3. Evaluation...')\n",
        "prediction = train_evaluate_deep.evaluate(cnn_model, X_test, y_test, batch_size=128, threshold=0.9, title='CNN + MLP', model_name='CNN + MLP', plot=False)\n",
        "\n",
        "plot_learning_curves=False\n",
        "if plot_learning_curves:\n",
        "  print('4. Plot learning curves...')\n",
        "  _ = train_evaluate_deep.plot_learning_curves(cnn_history)"
      ],
      "metadata": {
        "colab": {
          "base_uri": "https://localhost:8080/",
          "height": 1000
        },
        "id": "ivpKQpAL79Ir",
        "outputId": "a94833fd-9f63-45ef-db47-5c05754ab9e0"
      },
      "execution_count": 57,
      "outputs": [
        {
          "output_type": "stream",
          "name": "stdout",
          "text": [
            "1. Build Model...\n",
            "2. Train Model...\n",
            "----------------------------------\n"
          ]
        },
        {
          "output_type": "display_data",
          "data": {
            "text/plain": [
              "\u001b[1mModel: \"functional\"\u001b[0m\n"
            ],
            "text/html": [
              "<pre style=\"white-space:pre;overflow-x:auto;line-height:normal;font-family:Menlo,'DejaVu Sans Mono',consolas,'Courier New',monospace\"><span style=\"font-weight: bold\">Model: \"functional\"</span>\n",
              "</pre>\n"
            ]
          },
          "metadata": {}
        },
        {
          "output_type": "display_data",
          "data": {
            "text/plain": [
              "┏━━━━━━━━━━━━━━━━━━━━━━━━━━━━━━━━━━━━━━┳━━━━━━━━━━━━━━━━━━━━━━━━━━━━━┳━━━━━━━━━━━━━━━━━┓\n",
              "┃\u001b[1m \u001b[0m\u001b[1mLayer (type)                        \u001b[0m\u001b[1m \u001b[0m┃\u001b[1m \u001b[0m\u001b[1mOutput Shape               \u001b[0m\u001b[1m \u001b[0m┃\u001b[1m \u001b[0m\u001b[1m        Param #\u001b[0m\u001b[1m \u001b[0m┃\n",
              "┡━━━━━━━━━━━━━━━━━━━━━━━━━━━━━━━━━━━━━━╇━━━━━━━━━━━━━━━━━━━━━━━━━━━━━╇━━━━━━━━━━━━━━━━━┩\n",
              "│ input_layer (\u001b[38;5;33mInputLayer\u001b[0m)             │ (\u001b[38;5;45mNone\u001b[0m, \u001b[38;5;34m200\u001b[0m, \u001b[38;5;34m9\u001b[0m)              │               \u001b[38;5;34m0\u001b[0m │\n",
              "├──────────────────────────────────────┼─────────────────────────────┼─────────────────┤\n",
              "│ conv1 (\u001b[38;5;33mConv1D\u001b[0m)                       │ (\u001b[38;5;45mNone\u001b[0m, \u001b[38;5;34m200\u001b[0m, \u001b[38;5;34m16\u001b[0m)             │           \u001b[38;5;34m1,312\u001b[0m │\n",
              "├──────────────────────────────────────┼─────────────────────────────┼─────────────────┤\n",
              "│ conv2 (\u001b[38;5;33mConv1D\u001b[0m)                       │ (\u001b[38;5;45mNone\u001b[0m, \u001b[38;5;34m200\u001b[0m, \u001b[38;5;34m32\u001b[0m)             │           \u001b[38;5;34m4,640\u001b[0m │\n",
              "├──────────────────────────────────────┼─────────────────────────────┼─────────────────┤\n",
              "│ conv3 (\u001b[38;5;33mConv1D\u001b[0m)                       │ (\u001b[38;5;45mNone\u001b[0m, \u001b[38;5;34m200\u001b[0m, \u001b[38;5;34m64\u001b[0m)             │          \u001b[38;5;34m18,496\u001b[0m │\n",
              "├──────────────────────────────────────┼─────────────────────────────┼─────────────────┤\n",
              "│ flatten (\u001b[38;5;33mFlatten\u001b[0m)                    │ (\u001b[38;5;45mNone\u001b[0m, \u001b[38;5;34m12800\u001b[0m)               │               \u001b[38;5;34m0\u001b[0m │\n",
              "├──────────────────────────────────────┼─────────────────────────────┼─────────────────┤\n",
              "│ dense (\u001b[38;5;33mDense\u001b[0m)                        │ (\u001b[38;5;45mNone\u001b[0m, \u001b[38;5;34m512\u001b[0m)                 │       \u001b[38;5;34m6,554,112\u001b[0m │\n",
              "├──────────────────────────────────────┼─────────────────────────────┼─────────────────┤\n",
              "│ dropout (\u001b[38;5;33mDropout\u001b[0m)                    │ (\u001b[38;5;45mNone\u001b[0m, \u001b[38;5;34m512\u001b[0m)                 │               \u001b[38;5;34m0\u001b[0m │\n",
              "├──────────────────────────────────────┼─────────────────────────────┼─────────────────┤\n",
              "│ dense_1 (\u001b[38;5;33mDense\u001b[0m)                      │ (\u001b[38;5;45mNone\u001b[0m, \u001b[38;5;34m128\u001b[0m)                 │          \u001b[38;5;34m65,664\u001b[0m │\n",
              "├──────────────────────────────────────┼─────────────────────────────┼─────────────────┤\n",
              "│ dropout_1 (\u001b[38;5;33mDropout\u001b[0m)                  │ (\u001b[38;5;45mNone\u001b[0m, \u001b[38;5;34m128\u001b[0m)                 │               \u001b[38;5;34m0\u001b[0m │\n",
              "├──────────────────────────────────────┼─────────────────────────────┼─────────────────┤\n",
              "│ dense_2 (\u001b[38;5;33mDense\u001b[0m)                      │ (\u001b[38;5;45mNone\u001b[0m, \u001b[38;5;34m64\u001b[0m)                  │           \u001b[38;5;34m8,256\u001b[0m │\n",
              "├──────────────────────────────────────┼─────────────────────────────┼─────────────────┤\n",
              "│ dropout_2 (\u001b[38;5;33mDropout\u001b[0m)                  │ (\u001b[38;5;45mNone\u001b[0m, \u001b[38;5;34m64\u001b[0m)                  │               \u001b[38;5;34m0\u001b[0m │\n",
              "├──────────────────────────────────────┼─────────────────────────────┼─────────────────┤\n",
              "│ dense_3 (\u001b[38;5;33mDense\u001b[0m)                      │ (\u001b[38;5;45mNone\u001b[0m, \u001b[38;5;34m1\u001b[0m)                   │              \u001b[38;5;34m65\u001b[0m │\n",
              "└──────────────────────────────────────┴─────────────────────────────┴─────────────────┘\n"
            ],
            "text/html": [
              "<pre style=\"white-space:pre;overflow-x:auto;line-height:normal;font-family:Menlo,'DejaVu Sans Mono',consolas,'Courier New',monospace\">┏━━━━━━━━━━━━━━━━━━━━━━━━━━━━━━━━━━━━━━┳━━━━━━━━━━━━━━━━━━━━━━━━━━━━━┳━━━━━━━━━━━━━━━━━┓\n",
              "┃<span style=\"font-weight: bold\"> Layer (type)                         </span>┃<span style=\"font-weight: bold\"> Output Shape                </span>┃<span style=\"font-weight: bold\">         Param # </span>┃\n",
              "┡━━━━━━━━━━━━━━━━━━━━━━━━━━━━━━━━━━━━━━╇━━━━━━━━━━━━━━━━━━━━━━━━━━━━━╇━━━━━━━━━━━━━━━━━┩\n",
              "│ input_layer (<span style=\"color: #0087ff; text-decoration-color: #0087ff\">InputLayer</span>)             │ (<span style=\"color: #00d7ff; text-decoration-color: #00d7ff\">None</span>, <span style=\"color: #00af00; text-decoration-color: #00af00\">200</span>, <span style=\"color: #00af00; text-decoration-color: #00af00\">9</span>)              │               <span style=\"color: #00af00; text-decoration-color: #00af00\">0</span> │\n",
              "├──────────────────────────────────────┼─────────────────────────────┼─────────────────┤\n",
              "│ conv1 (<span style=\"color: #0087ff; text-decoration-color: #0087ff\">Conv1D</span>)                       │ (<span style=\"color: #00d7ff; text-decoration-color: #00d7ff\">None</span>, <span style=\"color: #00af00; text-decoration-color: #00af00\">200</span>, <span style=\"color: #00af00; text-decoration-color: #00af00\">16</span>)             │           <span style=\"color: #00af00; text-decoration-color: #00af00\">1,312</span> │\n",
              "├──────────────────────────────────────┼─────────────────────────────┼─────────────────┤\n",
              "│ conv2 (<span style=\"color: #0087ff; text-decoration-color: #0087ff\">Conv1D</span>)                       │ (<span style=\"color: #00d7ff; text-decoration-color: #00d7ff\">None</span>, <span style=\"color: #00af00; text-decoration-color: #00af00\">200</span>, <span style=\"color: #00af00; text-decoration-color: #00af00\">32</span>)             │           <span style=\"color: #00af00; text-decoration-color: #00af00\">4,640</span> │\n",
              "├──────────────────────────────────────┼─────────────────────────────┼─────────────────┤\n",
              "│ conv3 (<span style=\"color: #0087ff; text-decoration-color: #0087ff\">Conv1D</span>)                       │ (<span style=\"color: #00d7ff; text-decoration-color: #00d7ff\">None</span>, <span style=\"color: #00af00; text-decoration-color: #00af00\">200</span>, <span style=\"color: #00af00; text-decoration-color: #00af00\">64</span>)             │          <span style=\"color: #00af00; text-decoration-color: #00af00\">18,496</span> │\n",
              "├──────────────────────────────────────┼─────────────────────────────┼─────────────────┤\n",
              "│ flatten (<span style=\"color: #0087ff; text-decoration-color: #0087ff\">Flatten</span>)                    │ (<span style=\"color: #00d7ff; text-decoration-color: #00d7ff\">None</span>, <span style=\"color: #00af00; text-decoration-color: #00af00\">12800</span>)               │               <span style=\"color: #00af00; text-decoration-color: #00af00\">0</span> │\n",
              "├──────────────────────────────────────┼─────────────────────────────┼─────────────────┤\n",
              "│ dense (<span style=\"color: #0087ff; text-decoration-color: #0087ff\">Dense</span>)                        │ (<span style=\"color: #00d7ff; text-decoration-color: #00d7ff\">None</span>, <span style=\"color: #00af00; text-decoration-color: #00af00\">512</span>)                 │       <span style=\"color: #00af00; text-decoration-color: #00af00\">6,554,112</span> │\n",
              "├──────────────────────────────────────┼─────────────────────────────┼─────────────────┤\n",
              "│ dropout (<span style=\"color: #0087ff; text-decoration-color: #0087ff\">Dropout</span>)                    │ (<span style=\"color: #00d7ff; text-decoration-color: #00d7ff\">None</span>, <span style=\"color: #00af00; text-decoration-color: #00af00\">512</span>)                 │               <span style=\"color: #00af00; text-decoration-color: #00af00\">0</span> │\n",
              "├──────────────────────────────────────┼─────────────────────────────┼─────────────────┤\n",
              "│ dense_1 (<span style=\"color: #0087ff; text-decoration-color: #0087ff\">Dense</span>)                      │ (<span style=\"color: #00d7ff; text-decoration-color: #00d7ff\">None</span>, <span style=\"color: #00af00; text-decoration-color: #00af00\">128</span>)                 │          <span style=\"color: #00af00; text-decoration-color: #00af00\">65,664</span> │\n",
              "├──────────────────────────────────────┼─────────────────────────────┼─────────────────┤\n",
              "│ dropout_1 (<span style=\"color: #0087ff; text-decoration-color: #0087ff\">Dropout</span>)                  │ (<span style=\"color: #00d7ff; text-decoration-color: #00d7ff\">None</span>, <span style=\"color: #00af00; text-decoration-color: #00af00\">128</span>)                 │               <span style=\"color: #00af00; text-decoration-color: #00af00\">0</span> │\n",
              "├──────────────────────────────────────┼─────────────────────────────┼─────────────────┤\n",
              "│ dense_2 (<span style=\"color: #0087ff; text-decoration-color: #0087ff\">Dense</span>)                      │ (<span style=\"color: #00d7ff; text-decoration-color: #00d7ff\">None</span>, <span style=\"color: #00af00; text-decoration-color: #00af00\">64</span>)                  │           <span style=\"color: #00af00; text-decoration-color: #00af00\">8,256</span> │\n",
              "├──────────────────────────────────────┼─────────────────────────────┼─────────────────┤\n",
              "│ dropout_2 (<span style=\"color: #0087ff; text-decoration-color: #0087ff\">Dropout</span>)                  │ (<span style=\"color: #00d7ff; text-decoration-color: #00d7ff\">None</span>, <span style=\"color: #00af00; text-decoration-color: #00af00\">64</span>)                  │               <span style=\"color: #00af00; text-decoration-color: #00af00\">0</span> │\n",
              "├──────────────────────────────────────┼─────────────────────────────┼─────────────────┤\n",
              "│ dense_3 (<span style=\"color: #0087ff; text-decoration-color: #0087ff\">Dense</span>)                      │ (<span style=\"color: #00d7ff; text-decoration-color: #00d7ff\">None</span>, <span style=\"color: #00af00; text-decoration-color: #00af00\">1</span>)                   │              <span style=\"color: #00af00; text-decoration-color: #00af00\">65</span> │\n",
              "└──────────────────────────────────────┴─────────────────────────────┴─────────────────┘\n",
              "</pre>\n"
            ]
          },
          "metadata": {}
        },
        {
          "output_type": "display_data",
          "data": {
            "text/plain": [
              "\u001b[1m Total params: \u001b[0m\u001b[38;5;34m6,652,545\u001b[0m (25.38 MB)\n"
            ],
            "text/html": [
              "<pre style=\"white-space:pre;overflow-x:auto;line-height:normal;font-family:Menlo,'DejaVu Sans Mono',consolas,'Courier New',monospace\"><span style=\"font-weight: bold\"> Total params: </span><span style=\"color: #00af00; text-decoration-color: #00af00\">6,652,545</span> (25.38 MB)\n",
              "</pre>\n"
            ]
          },
          "metadata": {}
        },
        {
          "output_type": "display_data",
          "data": {
            "text/plain": [
              "\u001b[1m Trainable params: \u001b[0m\u001b[38;5;34m6,652,545\u001b[0m (25.38 MB)\n"
            ],
            "text/html": [
              "<pre style=\"white-space:pre;overflow-x:auto;line-height:normal;font-family:Menlo,'DejaVu Sans Mono',consolas,'Courier New',monospace\"><span style=\"font-weight: bold\"> Trainable params: </span><span style=\"color: #00af00; text-decoration-color: #00af00\">6,652,545</span> (25.38 MB)\n",
              "</pre>\n"
            ]
          },
          "metadata": {}
        },
        {
          "output_type": "display_data",
          "data": {
            "text/plain": [
              "\u001b[1m Non-trainable params: \u001b[0m\u001b[38;5;34m0\u001b[0m (0.00 B)\n"
            ],
            "text/html": [
              "<pre style=\"white-space:pre;overflow-x:auto;line-height:normal;font-family:Menlo,'DejaVu Sans Mono',consolas,'Courier New',monospace\"><span style=\"font-weight: bold\"> Non-trainable params: </span><span style=\"color: #00af00; text-decoration-color: #00af00\">0</span> (0.00 B)\n",
              "</pre>\n"
            ]
          },
          "metadata": {}
        },
        {
          "output_type": "stream",
          "name": "stdout",
          "text": [
            "None\n",
            "----------------------------------\n",
            "Epoch 1/30\n",
            "\u001b[1m393/393\u001b[0m \u001b[32m━━━━━━━━━━━━━━━━━━━━\u001b[0m\u001b[37m\u001b[0m \u001b[1m147s\u001b[0m 363ms/step - AUC: 0.8643 - Accuracy: 0.2453 - FN: 21.1726 - FP: 17917.4375 - PRC: 0.3200 - Precision: 0.0678 - Recall: 0.9715 - TN: 5976.4668 - TP: 1364.3300 - loss: 0.6262 - val_AUC: 0.9129 - val_Accuracy: 0.3779 - val_FN: 0.0000e+00 - val_FP: 7815.0000 - val_PRC: 0.1720 - val_Precision: 0.0164 - val_Recall: 1.0000 - val_TN: 4618.0000 - val_TP: 130.0000 - val_loss: 0.8876\n",
            "Epoch 2/30\n",
            "\u001b[1m393/393\u001b[0m \u001b[32m━━━━━━━━━━━━━━━━━━━━\u001b[0m\u001b[37m\u001b[0m \u001b[1m199s\u001b[0m 355ms/step - AUC: 0.9426 - Accuracy: 0.5456 - FN: 17.4569 - FP: 11009.4775 - PRC: 0.5853 - Precision: 0.1113 - Recall: 0.9888 - TN: 12849.1221 - TP: 1403.3502 - loss: 0.5259 - val_AUC: 0.9240 - val_Accuracy: 0.6466 - val_FN: 8.0000 - val_FP: 4432.0000 - val_PRC: 0.3428 - val_Precision: 0.0268 - val_Recall: 0.9385 - val_TN: 8001.0000 - val_TP: 122.0000 - val_loss: 0.7288\n",
            "Epoch 3/30\n",
            "\u001b[1m393/393\u001b[0m \u001b[32m━━━━━━━━━━━━━━━━━━━━\u001b[0m\u001b[37m\u001b[0m \u001b[1m134s\u001b[0m 340ms/step - AUC: 0.9568 - Accuracy: 0.7708 - FN: 56.9924 - FP: 5423.2769 - PRC: 0.7332 - Precision: 0.1897 - Recall: 0.9603 - TN: 18448.9922 - TP: 1350.1447 - loss: 0.4430 - val_AUC: 0.9242 - val_Accuracy: 0.8803 - val_FN: 13.0000 - val_FP: 1491.0000 - val_PRC: 0.3794 - val_Precision: 0.0728 - val_Recall: 0.9000 - val_TN: 10942.0000 - val_TP: 117.0000 - val_loss: 0.5642\n",
            "Epoch 4/30\n",
            "\u001b[1m393/393\u001b[0m \u001b[32m━━━━━━━━━━━━━━━━━━━━\u001b[0m\u001b[37m\u001b[0m \u001b[1m144s\u001b[0m 347ms/step - AUC: 0.9549 - Accuracy: 0.8889 - FN: 111.5102 - FP: 2544.1777 - PRC: 0.7825 - Precision: 0.3272 - Recall: 0.9222 - TN: 21332.2363 - TP: 1291.4822 - loss: 0.3655 - val_AUC: 0.9302 - val_Accuracy: 0.9209 - val_FN: 17.0000 - val_FP: 977.0000 - val_PRC: 0.3650 - val_Precision: 0.1037 - val_Recall: 0.8692 - val_TN: 11456.0000 - val_TP: 113.0000 - val_loss: 0.4171\n",
            "Epoch 5/30\n",
            "\u001b[1m393/393\u001b[0m \u001b[32m━━━━━━━━━━━━━━━━━━━━\u001b[0m\u001b[37m\u001b[0m \u001b[1m141s\u001b[0m 343ms/step - AUC: 0.9583 - Accuracy: 0.9274 - FN: 104.2843 - FP: 1700.9188 - PRC: 0.7963 - Precision: 0.4253 - Recall: 0.9248 - TN: 22190.3789 - TP: 1283.8248 - loss: 0.2933 - val_AUC: 0.9419 - val_Accuracy: 0.8886 - val_FN: 11.0000 - val_FP: 1388.0000 - val_PRC: 0.3279 - val_Precision: 0.0790 - val_Recall: 0.9154 - val_TN: 11045.0000 - val_TP: 119.0000 - val_loss: 0.4369\n",
            "Epoch 6/30\n",
            "\u001b[1m393/393\u001b[0m \u001b[32m━━━━━━━━━━━━━━━━━━━━\u001b[0m\u001b[37m\u001b[0m \u001b[1m140s\u001b[0m 339ms/step - AUC: 0.9637 - Accuracy: 0.9330 - FN: 100.9645 - FP: 1566.5533 - PRC: 0.7994 - Precision: 0.4517 - Recall: 0.9272 - TN: 22301.2891 - TP: 1310.5990 - loss: 0.2572 - val_AUC: 0.9501 - val_Accuracy: 0.9252 - val_FN: 15.0000 - val_FP: 925.0000 - val_PRC: 0.3555 - val_Precision: 0.1106 - val_Recall: 0.8846 - val_TN: 11508.0000 - val_TP: 115.0000 - val_loss: 0.2901\n",
            "Epoch 7/30\n",
            "\u001b[1m393/393\u001b[0m \u001b[32m━━━━━━━━━━━━━━━━━━━━\u001b[0m\u001b[37m\u001b[0m \u001b[1m132s\u001b[0m 337ms/step - AUC: 0.9725 - Accuracy: 0.9368 - FN: 101.9695 - FP: 1499.2157 - PRC: 0.8233 - Precision: 0.4681 - Recall: 0.9271 - TN: 22372.1973 - TP: 1306.0228 - loss: 0.2283 - val_AUC: 0.9558 - val_Accuracy: 0.9284 - val_FN: 14.0000 - val_FP: 886.0000 - val_PRC: 0.3829 - val_Precision: 0.1158 - val_Recall: 0.8923 - val_TN: 11547.0000 - val_TP: 116.0000 - val_loss: 0.2471\n",
            "Epoch 8/30\n",
            "\u001b[1m393/393\u001b[0m \u001b[32m━━━━━━━━━━━━━━━━━━━━\u001b[0m\u001b[37m\u001b[0m \u001b[1m134s\u001b[0m 341ms/step - AUC: 0.9790 - Accuracy: 0.9420 - FN: 93.8680 - FP: 1387.0914 - PRC: 0.8414 - Precision: 0.4800 - Recall: 0.9315 - TN: 22521.6719 - TP: 1276.7742 - loss: 0.1978 - val_AUC: 0.9607 - val_Accuracy: 0.9134 - val_FN: 10.0000 - val_FP: 1078.0000 - val_PRC: 0.3740 - val_Precision: 0.1002 - val_Recall: 0.9231 - val_TN: 11355.0000 - val_TP: 120.0000 - val_loss: 0.2764\n",
            "Epoch 9/30\n",
            "\u001b[1m393/393\u001b[0m \u001b[32m━━━━━━━━━━━━━━━━━━━━\u001b[0m\u001b[37m\u001b[0m \u001b[1m143s\u001b[0m 343ms/step - AUC: 0.9794 - Accuracy: 0.9383 - FN: 87.8299 - FP: 1446.5508 - PRC: 0.8573 - Precision: 0.4782 - Recall: 0.9383 - TN: 22426.6895 - TP: 1318.3351 - loss: 0.1948 - val_AUC: 0.9645 - val_Accuracy: 0.9249 - val_FN: 13.0000 - val_FP: 931.0000 - val_PRC: 0.4067 - val_Precision: 0.1116 - val_Recall: 0.9000 - val_TN: 11502.0000 - val_TP: 117.0000 - val_loss: 0.2277\n",
            "Epoch 10/30\n",
            "\u001b[1m393/393\u001b[0m \u001b[32m━━━━━━━━━━━━━━━━━━━━\u001b[0m\u001b[37m\u001b[0m \u001b[1m135s\u001b[0m 345ms/step - AUC: 0.9803 - Accuracy: 0.9415 - FN: 85.6827 - FP: 1383.4391 - PRC: 0.8479 - Precision: 0.4853 - Recall: 0.9363 - TN: 22512.7871 - TP: 1297.4974 - loss: 0.1862 - val_AUC: 0.9688 - val_Accuracy: 0.9237 - val_FN: 11.0000 - val_FP: 948.0000 - val_PRC: 0.4072 - val_Precision: 0.1115 - val_Recall: 0.9154 - val_TN: 11485.0000 - val_TP: 119.0000 - val_loss: 0.2282\n",
            "Epoch 11/30\n",
            "\u001b[1m393/393\u001b[0m \u001b[32m━━━━━━━━━━━━━━━━━━━━\u001b[0m\u001b[37m\u001b[0m \u001b[1m132s\u001b[0m 320ms/step - AUC: 0.9834 - Accuracy: 0.9451 - FN: 73.3046 - FP: 1331.9111 - PRC: 0.8564 - Precision: 0.4921 - Recall: 0.9455 - TN: 22574.2637 - TP: 1299.9264 - loss: 0.1675 - val_AUC: 0.9699 - val_Accuracy: 0.9200 - val_FN: 9.0000 - val_FP: 996.0000 - val_PRC: 0.4210 - val_Precision: 0.1083 - val_Recall: 0.9308 - val_TN: 11437.0000 - val_TP: 121.0000 - val_loss: 0.2323\n",
            "Epoch 12/30\n",
            "\u001b[1m393/393\u001b[0m \u001b[32m━━━━━━━━━━━━━━━━━━━━\u001b[0m\u001b[37m\u001b[0m \u001b[1m143s\u001b[0m 322ms/step - AUC: 0.9811 - Accuracy: 0.9442 - FN: 72.6827 - FP: 1333.0228 - PRC: 0.8484 - Precision: 0.4888 - Recall: 0.9454 - TN: 22562.6836 - TP: 1311.0178 - loss: 0.1767 - val_AUC: 0.9723 - val_Accuracy: 0.9201 - val_FN: 9.0000 - val_FP: 995.0000 - val_PRC: 0.4147 - val_Precision: 0.1084 - val_Recall: 0.9308 - val_TN: 11438.0000 - val_TP: 121.0000 - val_loss: 0.2298\n",
            "Epoch 13/30\n",
            "\u001b[1m393/393\u001b[0m \u001b[32m━━━━━━━━━━━━━━━━━━━━\u001b[0m\u001b[37m\u001b[0m \u001b[1m143s\u001b[0m 326ms/step - AUC: 0.9854 - Accuracy: 0.9461 - FN: 71.6066 - FP: 1287.1320 - PRC: 0.8606 - Precision: 0.5069 - Recall: 0.9473 - TN: 22588.6113 - TP: 1332.0558 - loss: 0.1621 - val_AUC: 0.9741 - val_Accuracy: 0.9292 - val_FN: 10.0000 - val_FP: 880.0000 - val_PRC: 0.4217 - val_Precision: 0.1200 - val_Recall: 0.9231 - val_TN: 11553.0000 - val_TP: 120.0000 - val_loss: 0.2047\n",
            "Epoch 14/30\n",
            "\u001b[1m393/393\u001b[0m \u001b[32m━━━━━━━━━━━━━━━━━━━━\u001b[0m\u001b[37m\u001b[0m \u001b[1m132s\u001b[0m 336ms/step - AUC: 0.9858 - Accuracy: 0.9454 - FN: 71.9112 - FP: 1305.2716 - PRC: 0.8662 - Precision: 0.4996 - Recall: 0.9478 - TN: 22586.9336 - TP: 1315.2893 - loss: 0.1603 - val_AUC: 0.9737 - val_Accuracy: 0.9264 - val_FN: 10.0000 - val_FP: 915.0000 - val_PRC: 0.4230 - val_Precision: 0.1159 - val_Recall: 0.9231 - val_TN: 11518.0000 - val_TP: 120.0000 - val_loss: 0.2107\n",
            "Epoch 15/30\n",
            "\u001b[1m393/393\u001b[0m \u001b[32m━━━━━━━━━━━━━━━━━━━━\u001b[0m\u001b[37m\u001b[0m \u001b[1m145s\u001b[0m 342ms/step - AUC: 0.9871 - Accuracy: 0.9467 - FN: 69.6142 - FP: 1257.9569 - PRC: 0.8780 - Precision: 0.5093 - Recall: 0.9512 - TN: 22623.5332 - TP: 1328.3020 - loss: 0.1530 - val_AUC: 0.9752 - val_Accuracy: 0.9196 - val_FN: 7.0000 - val_FP: 1003.0000 - val_PRC: 0.4304 - val_Precision: 0.1092 - val_Recall: 0.9462 - val_TN: 11430.0000 - val_TP: 123.0000 - val_loss: 0.2325\n",
            "Epoch 16/30\n",
            "\u001b[1m393/393\u001b[0m \u001b[32m━━━━━━━━━━━━━━━━━━━━\u001b[0m\u001b[37m\u001b[0m \u001b[1m139s\u001b[0m 333ms/step - AUC: 0.9869 - Accuracy: 0.9511 - FN: 60.9340 - FP: 1180.2183 - PRC: 0.8782 - Precision: 0.5320 - Recall: 0.9595 - TN: 22706.2109 - TP: 1332.0431 - loss: 0.1473 - val_AUC: 0.9772 - val_Accuracy: 0.9342 - val_FN: 9.0000 - val_FP: 818.0000 - val_PRC: 0.4297 - val_Precision: 0.1289 - val_Recall: 0.9308 - val_TN: 11615.0000 - val_TP: 121.0000 - val_loss: 0.1872\n",
            "Epoch 17/30\n",
            "\u001b[1m393/393\u001b[0m \u001b[32m━━━━━━━━━━━━━━━━━━━━\u001b[0m\u001b[37m\u001b[0m \u001b[1m143s\u001b[0m 337ms/step - AUC: 0.9876 - Accuracy: 0.9511 - FN: 65.6041 - FP: 1175.0914 - PRC: 0.8810 - Precision: 0.5340 - Recall: 0.9532 - TN: 22697.1621 - TP: 1341.5482 - loss: 0.1466 - val_AUC: 0.9769 - val_Accuracy: 0.9289 - val_FN: 7.0000 - val_FP: 886.0000 - val_PRC: 0.4354 - val_Precision: 0.1219 - val_Recall: 0.9462 - val_TN: 11547.0000 - val_TP: 123.0000 - val_loss: 0.2040\n",
            "Epoch 18/30\n",
            "\u001b[1m393/393\u001b[0m \u001b[32m━━━━━━━━━━━━━━━━━━━━\u001b[0m\u001b[37m\u001b[0m \u001b[1m144s\u001b[0m 342ms/step - AUC: 0.9868 - Accuracy: 0.9501 - FN: 59.6624 - FP: 1193.5889 - PRC: 0.8784 - Precision: 0.5292 - Recall: 0.9577 - TN: 22684.0957 - TP: 1342.0583 - loss: 0.1495 - val_AUC: 0.9777 - val_Accuracy: 0.9330 - val_FN: 8.0000 - val_FP: 834.0000 - val_PRC: 0.4358 - val_Precision: 0.1276 - val_Recall: 0.9385 - val_TN: 11599.0000 - val_TP: 122.0000 - val_loss: 0.1919\n",
            "Epoch 19/30\n",
            "\u001b[1m393/393\u001b[0m \u001b[32m━━━━━━━━━━━━━━━━━━━━\u001b[0m\u001b[37m\u001b[0m \u001b[1m139s\u001b[0m 335ms/step - AUC: 0.9873 - Accuracy: 0.9493 - FN: 63.9619 - FP: 1206.3528 - PRC: 0.8754 - Precision: 0.5285 - Recall: 0.9546 - TN: 22664.4648 - TP: 1344.6270 - loss: 0.1509 - val_AUC: 0.9770 - val_Accuracy: 0.9257 - val_FN: 7.0000 - val_FP: 926.0000 - val_PRC: 0.4358 - val_Precision: 0.1173 - val_Recall: 0.9462 - val_TN: 11507.0000 - val_TP: 123.0000 - val_loss: 0.2128\n",
            "Epoch 20/30\n",
            "\u001b[1m393/393\u001b[0m \u001b[32m━━━━━━━━━━━━━━━━━━━━\u001b[0m\u001b[37m\u001b[0m \u001b[1m143s\u001b[0m 337ms/step - AUC: 0.9872 - Accuracy: 0.9509 - FN: 60.6980 - FP: 1166.5736 - PRC: 0.8718 - Precision: 0.5212 - Recall: 0.9542 - TN: 22740.8750 - TP: 1311.2589 - loss: 0.1459 - val_AUC: 0.9775 - val_Accuracy: 0.9307 - val_FN: 10.0000 - val_FP: 861.0000 - val_PRC: 0.4404 - val_Precision: 0.1223 - val_Recall: 0.9231 - val_TN: 11572.0000 - val_TP: 120.0000 - val_loss: 0.1949\n",
            "Epoch 21/30\n",
            "\u001b[1m393/393\u001b[0m \u001b[32m━━━━━━━━━━━━━━━━━━━━\u001b[0m\u001b[37m\u001b[0m \u001b[1m134s\u001b[0m 341ms/step - AUC: 0.9868 - Accuracy: 0.9509 - FN: 56.7335 - FP: 1161.2792 - PRC: 0.8811 - Precision: 0.5247 - Recall: 0.9554 - TN: 22753.8105 - TP: 1307.5837 - loss: 0.1481 - val_AUC: 0.9777 - val_Accuracy: 0.9062 - val_FN: 6.0000 - val_FP: 1172.0000 - val_PRC: 0.4383 - val_Precision: 0.0957 - val_Recall: 0.9538 - val_TN: 11261.0000 - val_TP: 124.0000 - val_loss: 0.2579\n",
            "Epoch 22/30\n",
            "\u001b[1m393/393\u001b[0m \u001b[32m━━━━━━━━━━━━━━━━━━━━\u001b[0m\u001b[37m\u001b[0m \u001b[1m143s\u001b[0m 343ms/step - AUC: 0.9888 - Accuracy: 0.9518 - FN: 52.3959 - FP: 1153.6625 - PRC: 0.8812 - Precision: 0.5316 - Recall: 0.9641 - TN: 22748.3379 - TP: 1325.0101 - loss: 0.1359 - val_AUC: 0.9791 - val_Accuracy: 0.9249 - val_FN: 7.0000 - val_FP: 937.0000 - val_PRC: 0.4416 - val_Precision: 0.1160 - val_Recall: 0.9462 - val_TN: 11496.0000 - val_TP: 123.0000 - val_loss: 0.2144\n",
            "Epoch 23/30\n",
            "\u001b[1m393/393\u001b[0m \u001b[32m━━━━━━━━━━━━━━━━━━━━\u001b[0m\u001b[37m\u001b[0m \u001b[1m144s\u001b[0m 347ms/step - AUC: 0.9904 - Accuracy: 0.9547 - FN: 53.0533 - FP: 1100.3097 - PRC: 0.9005 - Precision: 0.5532 - Recall: 0.9615 - TN: 22785.5859 - TP: 1340.4569 - loss: 0.1302 - val_AUC: 0.9784 - val_Accuracy: 0.9366 - val_FN: 9.0000 - val_FP: 787.0000 - val_PRC: 0.4507 - val_Precision: 0.1333 - val_Recall: 0.9308 - val_TN: 11646.0000 - val_TP: 121.0000 - val_loss: 0.1800\n",
            "Epoch 24/30\n",
            "\u001b[1m393/393\u001b[0m \u001b[32m━━━━━━━━━━━━━━━━━━━━\u001b[0m\u001b[37m\u001b[0m \u001b[1m141s\u001b[0m 345ms/step - AUC: 0.9878 - Accuracy: 0.9543 - FN: 55.0533 - FP: 1086.6802 - PRC: 0.8921 - Precision: 0.5460 - Recall: 0.9619 - TN: 22805.1641 - TP: 1332.5076 - loss: 0.1395 - val_AUC: 0.9790 - val_Accuracy: 0.9343 - val_FN: 8.0000 - val_FP: 818.0000 - val_PRC: 0.4469 - val_Precision: 0.1298 - val_Recall: 0.9385 - val_TN: 11615.0000 - val_TP: 122.0000 - val_loss: 0.1888\n",
            "Epoch 25/30\n",
            "\u001b[1m393/393\u001b[0m \u001b[32m━━━━━━━━━━━━━━━━━━━━\u001b[0m\u001b[37m\u001b[0m \u001b[1m137s\u001b[0m 349ms/step - AUC: 0.9884 - Accuracy: 0.9539 - FN: 54.6396 - FP: 1109.0305 - PRC: 0.8901 - Precision: 0.5422 - Recall: 0.9594 - TN: 22798.2871 - TP: 1317.4492 - loss: 0.1360 - val_AUC: 0.9793 - val_Accuracy: 0.9350 - val_FN: 8.0000 - val_FP: 809.0000 - val_PRC: 0.4351 - val_Precision: 0.1310 - val_Recall: 0.9385 - val_TN: 11624.0000 - val_TP: 122.0000 - val_loss: 0.1822\n",
            "Epoch 26/30\n",
            "\u001b[1m393/393\u001b[0m \u001b[32m━━━━━━━━━━━━━━━━━━━━\u001b[0m\u001b[37m\u001b[0m \u001b[1m136s\u001b[0m 346ms/step - AUC: 0.9899 - Accuracy: 0.9559 - FN: 49.4746 - FP: 1070.9670 - PRC: 0.8918 - Precision: 0.5580 - Recall: 0.9646 - TN: 22819.6426 - TP: 1339.3224 - loss: 0.1292 - val_AUC: 0.9790 - val_Accuracy: 0.9256 - val_FN: 7.0000 - val_FP: 928.0000 - val_PRC: 0.4457 - val_Precision: 0.1170 - val_Recall: 0.9462 - val_TN: 11505.0000 - val_TP: 123.0000 - val_loss: 0.2124\n",
            "Epoch 27/30\n",
            "\u001b[1m393/393\u001b[0m \u001b[32m━━━━━━━━━━━━━━━━━━━━\u001b[0m\u001b[37m\u001b[0m \u001b[1m136s\u001b[0m 345ms/step - AUC: 0.9899 - Accuracy: 0.9547 - FN: 54.8173 - FP: 1096.7919 - PRC: 0.8931 - Precision: 0.5542 - Recall: 0.9625 - TN: 22781.2402 - TP: 1346.5558 - loss: 0.1297 - val_AUC: 0.9800 - val_Accuracy: 0.9332 - val_FN: 7.0000 - val_FP: 832.0000 - val_PRC: 0.4485 - val_Precision: 0.1288 - val_Recall: 0.9462 - val_TN: 11601.0000 - val_TP: 123.0000 - val_loss: 0.1941\n",
            "Epoch 28/30\n",
            "\u001b[1m393/393\u001b[0m \u001b[32m━━━━━━━━━━━━━━━━━━━━\u001b[0m\u001b[37m\u001b[0m \u001b[1m138s\u001b[0m 351ms/step - AUC: 0.9900 - Accuracy: 0.9543 - FN: 54.1701 - FP: 1075.6700 - PRC: 0.8883 - Precision: 0.5495 - Recall: 0.9586 - TN: 22810.8145 - TP: 1338.7512 - loss: 0.1309 - val_AUC: 0.9810 - val_Accuracy: 0.9355 - val_FN: 9.0000 - val_FP: 801.0000 - val_PRC: 0.4584 - val_Precision: 0.1312 - val_Recall: 0.9308 - val_TN: 11632.0000 - val_TP: 121.0000 - val_loss: 0.1833\n",
            "Epoch 29/30\n",
            "\u001b[1m393/393\u001b[0m \u001b[32m━━━━━━━━━━━━━━━━━━━━\u001b[0m\u001b[37m\u001b[0m \u001b[1m138s\u001b[0m 340ms/step - AUC: 0.9906 - Accuracy: 0.9570 - FN: 52.6726 - FP: 1046.2208 - PRC: 0.9003 - Precision: 0.5645 - Recall: 0.9655 - TN: 22834.5703 - TP: 1345.9417 - loss: 0.1255 - val_AUC: 0.9794 - val_Accuracy: 0.9339 - val_FN: 7.0000 - val_FP: 824.0000 - val_PRC: 0.4467 - val_Precision: 0.1299 - val_Recall: 0.9462 - val_TN: 11609.0000 - val_TP: 123.0000 - val_loss: 0.1931\n",
            "Epoch 30/30\n",
            "\u001b[1m393/393\u001b[0m \u001b[32m━━━━━━━━━━━━━━━━━━━━\u001b[0m\u001b[37m\u001b[0m \u001b[1m134s\u001b[0m 342ms/step - AUC: 0.9899 - Accuracy: 0.9589 - FN: 46.8274 - FP: 987.0330 - PRC: 0.8998 - Precision: 0.5713 - Recall: 0.9663 - TN: 22896.0938 - TP: 1349.4518 - loss: 0.1249 - val_AUC: 0.9800 - val_Accuracy: 0.9219 - val_FN: 6.0000 - val_FP: 975.0000 - val_PRC: 0.4407 - val_Precision: 0.1128 - val_Recall: 0.9538 - val_TN: 11458.0000 - val_TP: 124.0000 - val_loss: 0.2222\n",
            "Restoring model weights from the end of the best epoch: 28.\n",
            "3. Evaluation...\n",
            "\u001b[1m129/129\u001b[0m \u001b[32m━━━━━━━━━━━━━━━━━━━━\u001b[0m\u001b[37m\u001b[0m \u001b[1m14s\u001b[0m 107ms/step\n",
            "\n"
          ]
        },
        {
          "output_type": "display_data",
          "data": {
            "text/plain": [
              "<Figure size 700x400 with 2 Axes>"
            ],
            "image/png": "[encoded data removed]"
          },
          "metadata": {}
        },
        {
          "output_type": "stream",
          "name": "stdout",
          "text": [
            "\n"
          ]
        }
      ]
    },
    {
      "cell_type": "code",
      "source": [
        "predictions = load_pickle('/content/gdrive/MyDrive/Fall Detection System/Results/predictions.pkl')\n",
        "results = load_pickle('/content/gdrive/MyDrive/Fall Detection System/Results/results.pkl')"
      ],
      "metadata": {
        "id": "DKmAWYitP94j"
      },
      "execution_count": 58,
      "outputs": []
    },
    {
      "cell_type": "code",
      "source": [
        "import pandas as pd\n",
        "\n",
        "def convert_report_df(report):\n",
        "  d = {}\n",
        "  for key, value in report.items():\n",
        "      temp = {}\n",
        "      for label, metrics in value.items():\n",
        "        if type(metrics)==dict:\n",
        "          for metric, score in metrics.items():\n",
        "            temp[metric+'_'+label] = score\n",
        "        else:\n",
        "          temp[label] = metrics\n",
        "      d[key] = temp\n",
        "  return pd.DataFrame.from_dict(d).T.style.background_gradient(cmap=\"PuBu\")\n",
        "\n",
        "convert_report_df(results)\n"
      ],
      "metadata": {
        "colab": {
          "base_uri": "https://localhost:8080/",
          "height": 282
        },
        "id": "ZmlGtqBzQAFa",
        "outputId": "5690ddfd-fd1a-45b4-c111-dc7cd2d60184"
      },
      "execution_count": 59,
      "outputs": [
        {
          "output_type": "execute_result",
          "data": {
            "text/plain": [
              "<pandas.io.formats.style.Styler at 0x78e637e2dc90>"
            ],
            "text/html": [
              "<style type=\"text/css\">\n",
              "#T_48330_row0_col0, #T_48330_row0_col5, #T_48330_row0_col10, #T_48330_row1_col2, #T_48330_row1_col6, #T_48330_row1_col8, #T_48330_row1_col11, #T_48330_row1_col13, #T_48330_row1_col14, #T_48330_row1_col15, #T_48330_row2_col1, #T_48330_row2_col4, #T_48330_row2_col9 {\n",
              "  background-color: #023858;\n",
              "  color: #f1f1f1;\n",
              "}\n",
              "#T_48330_row0_col1, #T_48330_row0_col2, #T_48330_row0_col3, #T_48330_row0_col4, #T_48330_row0_col6, #T_48330_row0_col7, #T_48330_row0_col8, #T_48330_row0_col9, #T_48330_row0_col11, #T_48330_row0_col12, #T_48330_row0_col14, #T_48330_row0_col15, #T_48330_row0_col16, #T_48330_row1_col3, #T_48330_row1_col7, #T_48330_row1_col12, #T_48330_row1_col16, #T_48330_row2_col0, #T_48330_row2_col3, #T_48330_row2_col5, #T_48330_row2_col7, #T_48330_row2_col10, #T_48330_row2_col12, #T_48330_row2_col16, #T_48330_row3_col3, #T_48330_row3_col7, #T_48330_row3_col12, #T_48330_row3_col13, #T_48330_row3_col16 {\n",
              "  background-color: #fff7fb;\n",
              "  color: #000000;\n",
              "}\n",
              "#T_48330_row0_col13 {\n",
              "  background-color: #f8f1f8;\n",
              "  color: #000000;\n",
              "}\n",
              "#T_48330_row1_col0 {\n",
              "  background-color: #b5c4df;\n",
              "  color: #000000;\n",
              "}\n",
              "#T_48330_row1_col1 {\n",
              "  background-color: #023d60;\n",
              "  color: #f1f1f1;\n",
              "}\n",
              "#T_48330_row1_col4 {\n",
              "  background-color: #034871;\n",
              "  color: #f1f1f1;\n",
              "}\n",
              "#T_48330_row1_col5 {\n",
              "  background-color: #b7c5df;\n",
              "  color: #000000;\n",
              "}\n",
              "#T_48330_row1_col9 {\n",
              "  background-color: #03466e;\n",
              "  color: #f1f1f1;\n",
              "}\n",
              "#T_48330_row1_col10, #T_48330_row3_col6 {\n",
              "  background-color: #a2bcda;\n",
              "  color: #000000;\n",
              "}\n",
              "#T_48330_row2_col2 {\n",
              "  background-color: #034d79;\n",
              "  color: #f1f1f1;\n",
              "}\n",
              "#T_48330_row2_col6 {\n",
              "  background-color: #75a9cf;\n",
              "  color: #f1f1f1;\n",
              "}\n",
              "#T_48330_row2_col8, #T_48330_row2_col14 {\n",
              "  background-color: #034f7d;\n",
              "  color: #f1f1f1;\n",
              "}\n",
              "#T_48330_row2_col11 {\n",
              "  background-color: #5c9fc9;\n",
              "  color: #f1f1f1;\n",
              "}\n",
              "#T_48330_row2_col13 {\n",
              "  background-color: #0570b0;\n",
              "  color: #f1f1f1;\n",
              "}\n",
              "#T_48330_row2_col15 {\n",
              "  background-color: #05659f;\n",
              "  color: #f1f1f1;\n",
              "}\n",
              "#T_48330_row3_col0 {\n",
              "  background-color: #bcc7e1;\n",
              "  color: #000000;\n",
              "}\n",
              "#T_48330_row3_col1 {\n",
              "  background-color: #0771b1;\n",
              "  color: #f1f1f1;\n",
              "}\n",
              "#T_48330_row3_col2 {\n",
              "  background-color: #1379b5;\n",
              "  color: #f1f1f1;\n",
              "}\n",
              "#T_48330_row3_col4 {\n",
              "  background-color: #9cb9d9;\n",
              "  color: #000000;\n",
              "}\n",
              "#T_48330_row3_col5 {\n",
              "  background-color: #b8c6e0;\n",
              "  color: #000000;\n",
              "}\n",
              "#T_48330_row3_col8, #T_48330_row3_col14 {\n",
              "  background-color: #167bb6;\n",
              "  color: #f1f1f1;\n",
              "}\n",
              "#T_48330_row3_col9 {\n",
              "  background-color: #a1bbda;\n",
              "  color: #000000;\n",
              "}\n",
              "#T_48330_row3_col10 {\n",
              "  background-color: #b4c4df;\n",
              "  color: #000000;\n",
              "}\n",
              "#T_48330_row3_col11 {\n",
              "  background-color: #93b5d6;\n",
              "  color: #000000;\n",
              "}\n",
              "#T_48330_row3_col15 {\n",
              "  background-color: #348ebf;\n",
              "  color: #f1f1f1;\n",
              "}\n",
              "</style>\n",
              "<table id=\"T_48330\" class=\"dataframe\">\n",
              "  <thead>\n",
              "    <tr>\n",
              "      <th class=\"blank level0\" >&nbsp;</th>\n",
              "      <th id=\"T_48330_level0_col0\" class=\"col_heading level0 col0\" >precision_0</th>\n",
              "      <th id=\"T_48330_level0_col1\" class=\"col_heading level0 col1\" >recall_0</th>\n",
              "      <th id=\"T_48330_level0_col2\" class=\"col_heading level0 col2\" >f1-score_0</th>\n",
              "      <th id=\"T_48330_level0_col3\" class=\"col_heading level0 col3\" >support_0</th>\n",
              "      <th id=\"T_48330_level0_col4\" class=\"col_heading level0 col4\" >precision_1</th>\n",
              "      <th id=\"T_48330_level0_col5\" class=\"col_heading level0 col5\" >recall_1</th>\n",
              "      <th id=\"T_48330_level0_col6\" class=\"col_heading level0 col6\" >f1-score_1</th>\n",
              "      <th id=\"T_48330_level0_col7\" class=\"col_heading level0 col7\" >support_1</th>\n",
              "      <th id=\"T_48330_level0_col8\" class=\"col_heading level0 col8\" >accuracy</th>\n",
              "      <th id=\"T_48330_level0_col9\" class=\"col_heading level0 col9\" >precision_macro avg</th>\n",
              "      <th id=\"T_48330_level0_col10\" class=\"col_heading level0 col10\" >recall_macro avg</th>\n",
              "      <th id=\"T_48330_level0_col11\" class=\"col_heading level0 col11\" >f1-score_macro avg</th>\n",
              "      <th id=\"T_48330_level0_col12\" class=\"col_heading level0 col12\" >support_macro avg</th>\n",
              "      <th id=\"T_48330_level0_col13\" class=\"col_heading level0 col13\" >precision_weighted avg</th>\n",
              "      <th id=\"T_48330_level0_col14\" class=\"col_heading level0 col14\" >recall_weighted avg</th>\n",
              "      <th id=\"T_48330_level0_col15\" class=\"col_heading level0 col15\" >f1-score_weighted avg</th>\n",
              "      <th id=\"T_48330_level0_col16\" class=\"col_heading level0 col16\" >support_weighted avg</th>\n",
              "    </tr>\n",
              "  </thead>\n",
              "  <tbody>\n",
              "    <tr>\n",
              "      <th id=\"T_48330_level0_row0\" class=\"row_heading level0 row0\" >Logistic Regression</th>\n",
              "      <td id=\"T_48330_row0_col0\" class=\"data row0 col0\" >0.991639</td>\n",
              "      <td id=\"T_48330_row0_col1\" class=\"data row0 col1\" >0.934668</td>\n",
              "      <td id=\"T_48330_row0_col2\" class=\"data row0 col2\" >0.962311</td>\n",
              "      <td id=\"T_48330_row0_col3\" class=\"data row0 col3\" >15735.000000</td>\n",
              "      <td id=\"T_48330_row0_col4\" class=\"data row0 col4\" >0.373553</td>\n",
              "      <td id=\"T_48330_row0_col5\" class=\"data row0 col5\" >0.831750</td>\n",
              "      <td id=\"T_48330_row0_col6\" class=\"data row0 col6\" >0.515559</td>\n",
              "      <td id=\"T_48330_row0_col7\" class=\"data row0 col7\" >737.000000</td>\n",
              "      <td id=\"T_48330_row0_col8\" class=\"data row0 col8\" >0.930063</td>\n",
              "      <td id=\"T_48330_row0_col9\" class=\"data row0 col9\" >0.682596</td>\n",
              "      <td id=\"T_48330_row0_col10\" class=\"data row0 col10\" >0.883209</td>\n",
              "      <td id=\"T_48330_row0_col11\" class=\"data row0 col11\" >0.738935</td>\n",
              "      <td id=\"T_48330_row0_col12\" class=\"data row0 col12\" >16472.000000</td>\n",
              "      <td id=\"T_48330_row0_col13\" class=\"data row0 col13\" >0.963984</td>\n",
              "      <td id=\"T_48330_row0_col14\" class=\"data row0 col14\" >0.930063</td>\n",
              "      <td id=\"T_48330_row0_col15\" class=\"data row0 col15\" >0.942322</td>\n",
              "      <td id=\"T_48330_row0_col16\" class=\"data row0 col16\" >16472.000000</td>\n",
              "    </tr>\n",
              "    <tr>\n",
              "      <th id=\"T_48330_level0_row1\" class=\"row_heading level0 row1\" >Random Forest</th>\n",
              "      <td id=\"T_48330_row1_col0\" class=\"data row1 col0\" >0.980332</td>\n",
              "      <td id=\"T_48330_row1_col1\" class=\"data row1 col1\" >0.997839</td>\n",
              "      <td id=\"T_48330_row1_col2\" class=\"data row1 col2\" >0.989008</td>\n",
              "      <td id=\"T_48330_row1_col3\" class=\"data row1 col3\" >15735.000000</td>\n",
              "      <td id=\"T_48330_row1_col4\" class=\"data row1 col4\" >0.925439</td>\n",
              "      <td id=\"T_48330_row1_col5\" class=\"data row1 col5\" >0.572592</td>\n",
              "      <td id=\"T_48330_row1_col6\" class=\"data row1 col6\" >0.707460</td>\n",
              "      <td id=\"T_48330_row1_col7\" class=\"data row1 col7\" >737.000000</td>\n",
              "      <td id=\"T_48330_row1_col8\" class=\"data row1 col8\" >0.978813</td>\n",
              "      <td id=\"T_48330_row1_col9\" class=\"data row1 col9\" >0.952885</td>\n",
              "      <td id=\"T_48330_row1_col10\" class=\"data row1 col10\" >0.785215</td>\n",
              "      <td id=\"T_48330_row1_col11\" class=\"data row1 col11\" >0.848234</td>\n",
              "      <td id=\"T_48330_row1_col12\" class=\"data row1 col12\" >16472.000000</td>\n",
              "      <td id=\"T_48330_row1_col13\" class=\"data row1 col13\" >0.977876</td>\n",
              "      <td id=\"T_48330_row1_col14\" class=\"data row1 col14\" >0.978813</td>\n",
              "      <td id=\"T_48330_row1_col15\" class=\"data row1 col15\" >0.976411</td>\n",
              "      <td id=\"T_48330_row1_col16\" class=\"data row1 col16\" >16472.000000</td>\n",
              "    </tr>\n",
              "    <tr>\n",
              "      <th id=\"T_48330_level0_row2\" class=\"row_heading level0 row2\" >KNN</th>\n",
              "      <td id=\"T_48330_row2_col0\" class=\"data row2 col0\" >0.974766</td>\n",
              "      <td id=\"T_48330_row2_col1\" class=\"data row2 col1\" >0.999174</td>\n",
              "      <td id=\"T_48330_row2_col2\" class=\"data row2 col2\" >0.986819</td>\n",
              "      <td id=\"T_48330_row2_col3\" class=\"data row2 col3\" >15735.000000</td>\n",
              "      <td id=\"T_48330_row2_col4\" class=\"data row2 col4\" >0.962099</td>\n",
              "      <td id=\"T_48330_row2_col5\" class=\"data row2 col5\" >0.447761</td>\n",
              "      <td id=\"T_48330_row2_col6\" class=\"data row2 col6\" >0.611111</td>\n",
              "      <td id=\"T_48330_row2_col7\" class=\"data row2 col7\" >737.000000</td>\n",
              "      <td id=\"T_48330_row2_col8\" class=\"data row2 col8\" >0.974502</td>\n",
              "      <td id=\"T_48330_row2_col9\" class=\"data row2 col9\" >0.968433</td>\n",
              "      <td id=\"T_48330_row2_col10\" class=\"data row2 col10\" >0.723468</td>\n",
              "      <td id=\"T_48330_row2_col11\" class=\"data row2 col11\" >0.798965</td>\n",
              "      <td id=\"T_48330_row2_col12\" class=\"data row2 col12\" >16472.000000</td>\n",
              "      <td id=\"T_48330_row2_col13\" class=\"data row2 col13\" >0.974199</td>\n",
              "      <td id=\"T_48330_row2_col14\" class=\"data row2 col14\" >0.974502</td>\n",
              "      <td id=\"T_48330_row2_col15\" class=\"data row2 col15\" >0.970009</td>\n",
              "      <td id=\"T_48330_row2_col16\" class=\"data row2 col16\" >16472.000000</td>\n",
              "    </tr>\n",
              "    <tr>\n",
              "      <th id=\"T_48330_level0_row3\" class=\"row_heading level0 row3\" >Decision Tree</th>\n",
              "      <td id=\"T_48330_row3_col0\" class=\"data row3 col0\" >0.979975</td>\n",
              "      <td id=\"T_48330_row3_col1\" class=\"data row3 col1\" >0.982777</td>\n",
              "      <td id=\"T_48330_row3_col2\" class=\"data row3 col2\" >0.981374</td>\n",
              "      <td id=\"T_48330_row3_col3\" class=\"data row3 col3\" >15735.000000</td>\n",
              "      <td id=\"T_48330_row3_col4\" class=\"data row3 col4\" >0.608382</td>\n",
              "      <td id=\"T_48330_row3_col5\" class=\"data row3 col5\" >0.571235</td>\n",
              "      <td id=\"T_48330_row3_col6\" class=\"data row3 col6\" >0.589223</td>\n",
              "      <td id=\"T_48330_row3_col7\" class=\"data row3 col7\" >737.000000</td>\n",
              "      <td id=\"T_48330_row3_col8\" class=\"data row3 col8\" >0.964364</td>\n",
              "      <td id=\"T_48330_row3_col9\" class=\"data row3 col9\" >0.794178</td>\n",
              "      <td id=\"T_48330_row3_col10\" class=\"data row3 col10\" >0.777006</td>\n",
              "      <td id=\"T_48330_row3_col11\" class=\"data row3 col11\" >0.785299</td>\n",
              "      <td id=\"T_48330_row3_col12\" class=\"data row3 col12\" >16472.000000</td>\n",
              "      <td id=\"T_48330_row3_col13\" class=\"data row3 col13\" >0.963349</td>\n",
              "      <td id=\"T_48330_row3_col14\" class=\"data row3 col14\" >0.964364</td>\n",
              "      <td id=\"T_48330_row3_col15\" class=\"data row3 col15\" >0.963828</td>\n",
              "      <td id=\"T_48330_row3_col16\" class=\"data row3 col16\" >16472.000000</td>\n",
              "    </tr>\n",
              "  </tbody>\n",
              "</table>\n"
            ]
          },
          "metadata": {},
          "execution_count": 59
        }
      ]
    }
  ]
}